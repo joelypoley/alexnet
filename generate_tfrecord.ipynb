{
 "cells": [
  {
   "cell_type": "code",
   "execution_count": 1,
   "metadata": {},
   "outputs": [],
   "source": [
    "import random\n",
    "import io\n",
    "import tensorflow as tf\n",
    "from PIL import Image\n",
    "from tqdm import tqdm_notebook\n",
    "random.seed(12345)\n",
    "from pathlib import Path\n",
    "import tensorshow"
   ]
  },
  {
   "cell_type": "code",
   "execution_count": 2,
   "metadata": {},
   "outputs": [
    {
     "data": {
      "text/plain": [
       "'1.13.1'"
      ]
     },
     "execution_count": 2,
     "metadata": {},
     "output_type": "execute_result"
    }
   ],
   "source": [
    "tf.__version__"
   ]
  },
  {
   "cell_type": "code",
   "execution_count": 3,
   "metadata": {},
   "outputs": [],
   "source": [
    "IMAGENET_TRAIN_IMGS = Path('/home/joel/imagenet/ILSVRC2012_img_train')\n",
    "IMAGENET_VAL_IMGS = Path('/home/joel/imagenet/ILSVRC2012_img_val')\n",
    "IMAGENET_TRAIN_LABELS = Path('/home/joel/imagenet/ILSVRC2012_bbox_train_v2')\n",
    "IMAGENET_VAL_LABELS = Path('/home/joel/imagenet/ILSVRC2012_bbox_val_v3/val')\n",
    "code_to_labels_file = Path('/home/joel/imagenet/LOC_synset_mapping.txt')"
   ]
  },
  {
   "cell_type": "code",
   "execution_count": 31,
   "metadata": {},
   "outputs": [],
   "source": [
    "imagenet_train_dirs = [x for x in IMAGENET_TRAIN_IMGS.iterdir() if x.is_dir()]\n",
    "imagenet_filenames = [file for file in IMAGENET_VAL_IMGS.iterdir()]"
   ]
  },
  {
   "cell_type": "code",
   "execution_count": 32,
   "metadata": {},
   "outputs": [],
   "source": [
    "random.shuffle(imagenet_filenames)"
   ]
  },
  {
   "cell_type": "code",
   "execution_count": 33,
   "metadata": {},
   "outputs": [
    {
     "data": {
      "text/plain": [
       "50000"
      ]
     },
     "execution_count": 33,
     "metadata": {},
     "output_type": "execute_result"
    }
   ],
   "source": [
    "len(imagenet_filenames)"
   ]
  },
  {
   "cell_type": "code",
   "execution_count": 34,
   "metadata": {},
   "outputs": [
    {
     "data": {
      "text/plain": [
       "[PosixPath('/home/joel/imagenet/ILSVRC2012_img_val/ILSVRC2012_val_00023106.JPEG')]"
      ]
     },
     "execution_count": 34,
     "metadata": {},
     "output_type": "execute_result"
    }
   ],
   "source": [
    "imagenet_filenames[:1]"
   ]
  },
  {
   "cell_type": "code",
   "execution_count": 8,
   "metadata": {},
   "outputs": [],
   "source": [
    "# Remove the png file hiding in there.\n",
    "imagenet_filenames.remove(Path('/home/joel/imagenet/ILSVRC2012_img_train/n02105855/n02105855_2933.JPEG'))"
   ]
  },
  {
   "cell_type": "code",
   "execution_count": 9,
   "metadata": {},
   "outputs": [
    {
     "data": {
      "text/plain": [
       "1281166"
      ]
     },
     "execution_count": 9,
     "metadata": {},
     "output_type": "execute_result"
    }
   ],
   "source": [
    "len(imagenet_filenames)"
   ]
  },
  {
   "cell_type": "code",
   "execution_count": 36,
   "metadata": {},
   "outputs": [],
   "source": [
    "sharded_filenames = []\n",
    "shard_size = len(imagenet_filenames) // 128 + 1\n",
    "assert (shard_size * 128 >= len(imagenet_filenames) and (shard_size-1) * 128 < len(imagenet_filenames))"
   ]
  },
  {
   "cell_type": "code",
   "execution_count": 37,
   "metadata": {},
   "outputs": [],
   "source": [
    "for i in range(0, len(imagenet_filenames), shard_size):\n",
    "    sharded_filenames.append(imagenet_filenames[i:i+shard_size])"
   ]
  },
  {
   "cell_type": "code",
   "execution_count": 38,
   "metadata": {},
   "outputs": [
    {
     "data": {
      "text/plain": [
       "128"
      ]
     },
     "execution_count": 38,
     "metadata": {},
     "output_type": "execute_result"
    }
   ],
   "source": [
    "len(sharded_filenames)"
   ]
  },
  {
   "cell_type": "code",
   "execution_count": 39,
   "metadata": {},
   "outputs": [
    {
     "data": {
      "text/plain": [
       "50000"
      ]
     },
     "execution_count": 39,
     "metadata": {},
     "output_type": "execute_result"
    }
   ],
   "source": [
    "sum(len(x) for x in sharded_filenames)"
   ]
  },
  {
   "cell_type": "code",
   "execution_count": 14,
   "metadata": {},
   "outputs": [],
   "source": [
    "code_to_labels = {}\n",
    "with code_to_labels_file.open() as f:\n",
    "    for i, line in enumerate(f):\n",
    "        code = line[:9]\n",
    "        desc = line[9:].strip().split(',')[0]\n",
    "        code_to_labels[code] = (i, desc)"
   ]
  },
  {
   "cell_type": "code",
   "execution_count": 69,
   "metadata": {},
   "outputs": [
    {
     "name": "stdout",
     "output_type": "stream",
     "text": [
      "{'n01440764': (0, 'tench'), 'n01443537': (1, 'goldfish'), 'n01484850': (2, 'great white shark'), 'n01491361': (3, 'tiger shark'), 'n01494475': (4, 'hammerhead'), 'n01496331': (5, 'electric ray'), 'n01498041': (6, 'stingray'), 'n01514668': (7, 'cock'), 'n01514859': (8, 'hen'), 'n01518878': (9, 'ostrich'), 'n01530575': (10, 'brambling'), 'n01531178': (11, 'goldfinch'), 'n01532829': (12, 'house finch'), 'n01534433': (13, 'junco'), 'n01537544': (14, 'indigo bunting'), 'n01558993': (15, 'robin'), 'n01560419': (16, 'bulbul'), 'n01580077': (17, 'jay'), 'n01582220': (18, 'magpie'), 'n01592084': (19, 'chickadee'), 'n01601694': (20, 'water ouzel'), 'n01608432': (21, 'kite'), 'n01614925': (22, 'bald eagle'), 'n01616318': (23, 'vulture'), 'n01622779': (24, 'great grey owl'), 'n01629819': (25, 'European fire salamander'), 'n01630670': (26, 'common newt'), 'n01631663': (27, 'eft'), 'n01632458': (28, 'spotted salamander'), 'n01632777': (29, 'axolotl'), 'n01641577': (30, 'bullfrog'), 'n01644373': (31, 'tree frog'), 'n01644900': (32, 'tailed frog'), 'n01664065': (33, 'loggerhead'), 'n01665541': (34, 'leatherback turtle'), 'n01667114': (35, 'mud turtle'), 'n01667778': (36, 'terrapin'), 'n01669191': (37, 'box turtle'), 'n01675722': (38, 'banded gecko'), 'n01677366': (39, 'common iguana'), 'n01682714': (40, 'American chameleon'), 'n01685808': (41, 'whiptail'), 'n01687978': (42, 'agama'), 'n01688243': (43, 'frilled lizard'), 'n01689811': (44, 'alligator lizard'), 'n01692333': (45, 'Gila monster'), 'n01693334': (46, 'green lizard'), 'n01694178': (47, 'African chameleon'), 'n01695060': (48, 'Komodo dragon'), 'n01697457': (49, 'African crocodile'), 'n01698640': (50, 'American alligator'), 'n01704323': (51, 'triceratops'), 'n01728572': (52, 'thunder snake'), 'n01728920': (53, 'ringneck snake'), 'n01729322': (54, 'hognose snake'), 'n01729977': (55, 'green snake'), 'n01734418': (56, 'king snake'), 'n01735189': (57, 'garter snake'), 'n01737021': (58, 'water snake'), 'n01739381': (59, 'vine snake'), 'n01740131': (60, 'night snake'), 'n01742172': (61, 'boa constrictor'), 'n01744401': (62, 'rock python'), 'n01748264': (63, 'Indian cobra'), 'n01749939': (64, 'green mamba'), 'n01751748': (65, 'sea snake'), 'n01753488': (66, 'horned viper'), 'n01755581': (67, 'diamondback'), 'n01756291': (68, 'sidewinder'), 'n01768244': (69, 'trilobite'), 'n01770081': (70, 'harvestman'), 'n01770393': (71, 'scorpion'), 'n01773157': (72, 'black and gold garden spider'), 'n01773549': (73, 'barn spider'), 'n01773797': (74, 'garden spider'), 'n01774384': (75, 'black widow'), 'n01774750': (76, 'tarantula'), 'n01775062': (77, 'wolf spider'), 'n01776313': (78, 'tick'), 'n01784675': (79, 'centipede'), 'n01795545': (80, 'black grouse'), 'n01796340': (81, 'ptarmigan'), 'n01797886': (82, 'ruffed grouse'), 'n01798484': (83, 'prairie chicken'), 'n01806143': (84, 'peacock'), 'n01806567': (85, 'quail'), 'n01807496': (86, 'partridge'), 'n01817953': (87, 'African grey'), 'n01818515': (88, 'macaw'), 'n01819313': (89, 'sulphur-crested cockatoo'), 'n01820546': (90, 'lorikeet'), 'n01824575': (91, 'coucal'), 'n01828970': (92, 'bee eater'), 'n01829413': (93, 'hornbill'), 'n01833805': (94, 'hummingbird'), 'n01843065': (95, 'jacamar'), 'n01843383': (96, 'toucan'), 'n01847000': (97, 'drake'), 'n01855032': (98, 'red-breasted merganser'), 'n01855672': (99, 'goose'), 'n01860187': (100, 'black swan'), 'n01871265': (101, 'tusker'), 'n01872401': (102, 'echidna'), 'n01873310': (103, 'platypus'), 'n01877812': (104, 'wallaby'), 'n01882714': (105, 'koala'), 'n01883070': (106, 'wombat'), 'n01910747': (107, 'jellyfish'), 'n01914609': (108, 'sea anemone'), 'n01917289': (109, 'brain coral'), 'n01924916': (110, 'flatworm'), 'n01930112': (111, 'nematode'), 'n01943899': (112, 'conch'), 'n01944390': (113, 'snail'), 'n01945685': (114, 'slug'), 'n01950731': (115, 'sea slug'), 'n01955084': (116, 'chiton'), 'n01968897': (117, 'chambered nautilus'), 'n01978287': (118, 'Dungeness crab'), 'n01978455': (119, 'rock crab'), 'n01980166': (120, 'fiddler crab'), 'n01981276': (121, 'king crab'), 'n01983481': (122, 'American lobster'), 'n01984695': (123, 'spiny lobster'), 'n01985128': (124, 'crayfish'), 'n01986214': (125, 'hermit crab'), 'n01990800': (126, 'isopod'), 'n02002556': (127, 'white stork'), 'n02002724': (128, 'black stork'), 'n02006656': (129, 'spoonbill'), 'n02007558': (130, 'flamingo'), 'n02009229': (131, 'little blue heron'), 'n02009912': (132, 'American egret'), 'n02011460': (133, 'bittern'), 'n02012849': (134, 'crane'), 'n02013706': (135, 'limpkin'), 'n02017213': (136, 'European gallinule'), 'n02018207': (137, 'American coot'), 'n02018795': (138, 'bustard'), 'n02025239': (139, 'ruddy turnstone'), 'n02027492': (140, 'red-backed sandpiper'), 'n02028035': (141, 'redshank'), 'n02033041': (142, 'dowitcher'), 'n02037110': (143, 'oystercatcher'), 'n02051845': (144, 'pelican'), 'n02056570': (145, 'king penguin'), 'n02058221': (146, 'albatross'), 'n02066245': (147, 'grey whale'), 'n02071294': (148, 'killer whale'), 'n02074367': (149, 'dugong'), 'n02077923': (150, 'sea lion'), 'n02085620': (151, 'Chihuahua'), 'n02085782': (152, 'Japanese spaniel'), 'n02085936': (153, 'Maltese dog'), 'n02086079': (154, 'Pekinese'), 'n02086240': (155, 'Shih-Tzu'), 'n02086646': (156, 'Blenheim spaniel'), 'n02086910': (157, 'papillon'), 'n02087046': (158, 'toy terrier'), 'n02087394': (159, 'Rhodesian ridgeback'), 'n02088094': (160, 'Afghan hound'), 'n02088238': (161, 'basset'), 'n02088364': (162, 'beagle'), 'n02088466': (163, 'bloodhound'), 'n02088632': (164, 'bluetick'), 'n02089078': (165, 'black-and-tan coonhound'), 'n02089867': (166, 'Walker hound'), 'n02089973': (167, 'English foxhound'), 'n02090379': (168, 'redbone'), 'n02090622': (169, 'borzoi'), 'n02090721': (170, 'Irish wolfhound'), 'n02091032': (171, 'Italian greyhound'), 'n02091134': (172, 'whippet'), 'n02091244': (173, 'Ibizan hound'), 'n02091467': (174, 'Norwegian elkhound'), 'n02091635': (175, 'otterhound'), 'n02091831': (176, 'Saluki'), 'n02092002': (177, 'Scottish deerhound'), 'n02092339': (178, 'Weimaraner'), 'n02093256': (179, 'Staffordshire bullterrier'), 'n02093428': (180, 'American Staffordshire terrier'), 'n02093647': (181, 'Bedlington terrier'), 'n02093754': (182, 'Border terrier'), 'n02093859': (183, 'Kerry blue terrier'), 'n02093991': (184, 'Irish terrier'), 'n02094114': (185, 'Norfolk terrier'), 'n02094258': (186, 'Norwich terrier'), 'n02094433': (187, 'Yorkshire terrier'), 'n02095314': (188, 'wire-haired fox terrier'), 'n02095570': (189, 'Lakeland terrier'), 'n02095889': (190, 'Sealyham terrier'), 'n02096051': (191, 'Airedale'), 'n02096177': (192, 'cairn'), 'n02096294': (193, 'Australian terrier'), 'n02096437': (194, 'Dandie Dinmont'), 'n02096585': (195, 'Boston bull'), 'n02097047': (196, 'miniature schnauzer'), 'n02097130': (197, 'giant schnauzer'), 'n02097209': (198, 'standard schnauzer'), 'n02097298': (199, 'Scotch terrier'), 'n02097474': (200, 'Tibetan terrier'), 'n02097658': (201, 'silky terrier'), 'n02098105': (202, 'soft-coated wheaten terrier'), 'n02098286': (203, 'West Highland white terrier'), 'n02098413': (204, 'Lhasa'), 'n02099267': (205, 'flat-coated retriever'), 'n02099429': (206, 'curly-coated retriever'), 'n02099601': (207, 'golden retriever'), 'n02099712': (208, 'Labrador retriever'), 'n02099849': (209, 'Chesapeake Bay retriever'), 'n02100236': (210, 'German short-haired pointer'), 'n02100583': (211, 'vizsla'), 'n02100735': (212, 'English setter'), 'n02100877': (213, 'Irish setter'), 'n02101006': (214, 'Gordon setter'), 'n02101388': (215, 'Brittany spaniel'), 'n02101556': (216, 'clumber'), 'n02102040': (217, 'English springer'), 'n02102177': (218, 'Welsh springer spaniel'), 'n02102318': (219, 'cocker spaniel'), 'n02102480': (220, 'Sussex spaniel'), 'n02102973': (221, 'Irish water spaniel'), 'n02104029': (222, 'kuvasz'), 'n02104365': (223, 'schipperke'), 'n02105056': (224, 'groenendael'), 'n02105162': (225, 'malinois'), 'n02105251': (226, 'briard'), 'n02105412': (227, 'kelpie'), 'n02105505': (228, 'komondor'), 'n02105641': (229, 'Old English sheepdog'), 'n02105855': (230, 'Shetland sheepdog'), 'n02106030': (231, 'collie'), 'n02106166': (232, 'Border collie'), 'n02106382': (233, 'Bouvier des Flandres'), 'n02106550': (234, 'Rottweiler'), 'n02106662': (235, 'German shepherd'), 'n02107142': (236, 'Doberman'), 'n02107312': (237, 'miniature pinscher'), 'n02107574': (238, 'Greater Swiss Mountain dog'), 'n02107683': (239, 'Bernese mountain dog'), 'n02107908': (240, 'Appenzeller'), 'n02108000': (241, 'EntleBucher'), 'n02108089': (242, 'boxer'), 'n02108422': (243, 'bull mastiff'), 'n02108551': (244, 'Tibetan mastiff'), 'n02108915': (245, 'French bulldog'), 'n02109047': (246, 'Great Dane'), 'n02109525': (247, 'Saint Bernard'), 'n02109961': (248, 'Eskimo dog'), 'n02110063': (249, 'malamute'), 'n02110185': (250, 'Siberian husky'), 'n02110341': (251, 'dalmatian'), 'n02110627': (252, 'affenpinscher'), 'n02110806': (253, 'basenji'), 'n02110958': (254, 'pug'), 'n02111129': (255, 'Leonberg'), 'n02111277': (256, 'Newfoundland'), 'n02111500': (257, 'Great Pyrenees'), 'n02111889': (258, 'Samoyed'), 'n02112018': (259, 'Pomeranian'), 'n02112137': (260, 'chow'), 'n02112350': (261, 'keeshond'), 'n02112706': (262, 'Brabancon griffon'), 'n02113023': (263, 'Pembroke'), 'n02113186': (264, 'Cardigan'), 'n02113624': (265, 'toy poodle'), 'n02113712': (266, 'miniature poodle'), 'n02113799': (267, 'standard poodle'), 'n02113978': (268, 'Mexican hairless'), 'n02114367': (269, 'timber wolf'), 'n02114548': (270, 'white wolf'), 'n02114712': (271, 'red wolf'), 'n02114855': (272, 'coyote'), 'n02115641': (273, 'dingo'), 'n02115913': (274, 'dhole'), 'n02116738': (275, 'African hunting dog'), 'n02117135': (276, 'hyena'), 'n02119022': (277, 'red fox'), 'n02119789': (278, 'kit fox'), 'n02120079': (279, 'Arctic fox'), 'n02120505': (280, 'grey fox'), 'n02123045': (281, 'tabby'), 'n02123159': (282, 'tiger cat'), 'n02123394': (283, 'Persian cat'), 'n02123597': (284, 'Siamese cat'), 'n02124075': (285, 'Egyptian cat'), 'n02125311': (286, 'cougar'), 'n02127052': (287, 'lynx'), 'n02128385': (288, 'leopard'), 'n02128757': (289, 'snow leopard'), 'n02128925': (290, 'jaguar'), 'n02129165': (291, 'lion'), 'n02129604': (292, 'tiger'), 'n02130308': (293, 'cheetah'), 'n02132136': (294, 'brown bear'), 'n02133161': (295, 'American black bear'), 'n02134084': (296, 'ice bear'), 'n02134418': (297, 'sloth bear'), 'n02137549': (298, 'mongoose'), 'n02138441': (299, 'meerkat'), 'n02165105': (300, 'tiger beetle'), 'n02165456': (301, 'ladybug'), 'n02167151': (302, 'ground beetle'), 'n02168699': (303, 'long-horned beetle'), 'n02169497': (304, 'leaf beetle'), 'n02172182': (305, 'dung beetle'), 'n02174001': (306, 'rhinoceros beetle'), 'n02177972': (307, 'weevil'), 'n02190166': (308, 'fly'), 'n02206856': (309, 'bee'), 'n02219486': (310, 'ant'), 'n02226429': (311, 'grasshopper'), 'n02229544': (312, 'cricket'), 'n02231487': (313, 'walking stick'), 'n02233338': (314, 'cockroach'), 'n02236044': (315, 'mantis'), 'n02256656': (316, 'cicada'), 'n02259212': (317, 'leafhopper'), 'n02264363': (318, 'lacewing'), 'n02268443': (319, 'dragonfly'), 'n02268853': (320, 'damselfly'), 'n02276258': (321, 'admiral'), 'n02277742': (322, 'ringlet'), 'n02279972': (323, 'monarch'), 'n02280649': (324, 'cabbage butterfly'), 'n02281406': (325, 'sulphur butterfly'), 'n02281787': (326, 'lycaenid'), 'n02317335': (327, 'starfish'), 'n02319095': (328, 'sea urchin'), 'n02321529': (329, 'sea cucumber'), 'n02325366': (330, 'wood rabbit'), 'n02326432': (331, 'hare'), 'n02328150': (332, 'Angora'), 'n02342885': (333, 'hamster'), 'n02346627': (334, 'porcupine'), 'n02356798': (335, 'fox squirrel'), 'n02361337': (336, 'marmot'), 'n02363005': (337, 'beaver'), 'n02364673': (338, 'guinea pig'), 'n02389026': (339, 'sorrel'), 'n02391049': (340, 'zebra'), 'n02395406': (341, 'hog'), 'n02396427': (342, 'wild boar'), 'n02397096': (343, 'warthog'), 'n02398521': (344, 'hippopotamus'), 'n02403003': (345, 'ox'), 'n02408429': (346, 'water buffalo'), 'n02410509': (347, 'bison'), 'n02412080': (348, 'ram'), 'n02415577': (349, 'bighorn'), 'n02417914': (350, 'ibex'), 'n02422106': (351, 'hartebeest'), 'n02422699': (352, 'impala'), 'n02423022': (353, 'gazelle'), 'n02437312': (354, 'Arabian camel'), 'n02437616': (355, 'llama'), 'n02441942': (356, 'weasel'), 'n02442845': (357, 'mink'), 'n02443114': (358, 'polecat'), 'n02443484': (359, 'black-footed ferret'), 'n02444819': (360, 'otter'), 'n02445715': (361, 'skunk'), 'n02447366': (362, 'badger'), 'n02454379': (363, 'armadillo'), 'n02457408': (364, 'three-toed sloth'), 'n02480495': (365, 'orangutan'), 'n02480855': (366, 'gorilla'), 'n02481823': (367, 'chimpanzee'), 'n02483362': (368, 'gibbon'), 'n02483708': (369, 'siamang'), 'n02484975': (370, 'guenon'), 'n02486261': (371, 'patas'), 'n02486410': (372, 'baboon'), 'n02487347': (373, 'macaque'), 'n02488291': (374, 'langur'), 'n02488702': (375, 'colobus'), 'n02489166': (376, 'proboscis monkey'), 'n02490219': (377, 'marmoset'), 'n02492035': (378, 'capuchin'), 'n02492660': (379, 'howler monkey'), 'n02493509': (380, 'titi'), 'n02493793': (381, 'spider monkey'), 'n02494079': (382, 'squirrel monkey'), 'n02497673': (383, 'Madagascar cat'), 'n02500267': (384, 'indri'), 'n02504013': (385, 'Indian elephant'), 'n02504458': (386, 'African elephant'), 'n02509815': (387, 'lesser panda'), 'n02510455': (388, 'giant panda'), 'n02514041': (389, 'barracouta'), 'n02526121': (390, 'eel'), 'n02536864': (391, 'coho'), 'n02606052': (392, 'rock beauty'), 'n02607072': (393, 'anemone fish'), 'n02640242': (394, 'sturgeon'), 'n02641379': (395, 'gar'), 'n02643566': (396, 'lionfish'), 'n02655020': (397, 'puffer'), 'n02666196': (398, 'abacus'), 'n02667093': (399, 'abaya'), 'n02669723': (400, 'academic gown'), 'n02672831': (401, 'accordion'), 'n02676566': (402, 'acoustic guitar'), 'n02687172': (403, 'aircraft carrier'), 'n02690373': (404, 'airliner'), 'n02692877': (405, 'airship'), 'n02699494': (406, 'altar'), 'n02701002': (407, 'ambulance'), 'n02704792': (408, 'amphibian'), 'n02708093': (409, 'analog clock'), 'n02727426': (410, 'apiary'), 'n02730930': (411, 'apron'), 'n02747177': (412, 'ashcan'), 'n02749479': (413, 'assault rifle'), 'n02769748': (414, 'backpack'), 'n02776631': (415, 'bakery'), 'n02777292': (416, 'balance beam'), 'n02782093': (417, 'balloon'), 'n02783161': (418, 'ballpoint'), 'n02786058': (419, 'Band Aid'), 'n02787622': (420, 'banjo'), 'n02788148': (421, 'bannister'), 'n02790996': (422, 'barbell'), 'n02791124': (423, 'barber chair'), 'n02791270': (424, 'barbershop'), 'n02793495': (425, 'barn'), 'n02794156': (426, 'barometer'), 'n02795169': (427, 'barrel'), 'n02797295': (428, 'barrow'), 'n02799071': (429, 'baseball'), 'n02802426': (430, 'basketball'), 'n02804414': (431, 'bassinet'), 'n02804610': (432, 'bassoon'), 'n02807133': (433, 'bathing cap'), 'n02808304': (434, 'bath towel'), 'n02808440': (435, 'bathtub'), 'n02814533': (436, 'beach wagon'), 'n02814860': (437, 'beacon'), 'n02815834': (438, 'beaker'), 'n02817516': (439, 'bearskin'), 'n02823428': (440, 'beer bottle'), 'n02823750': (441, 'beer glass'), 'n02825657': (442, 'bell cote'), 'n02834397': (443, 'bib'), 'n02835271': (444, 'bicycle-built-for-two'), 'n02837789': (445, 'bikini'), 'n02840245': (446, 'binder'), 'n02841315': (447, 'binoculars'), 'n02843684': (448, 'birdhouse'), 'n02859443': (449, 'boathouse'), 'n02860847': (450, 'bobsled'), 'n02865351': (451, 'bolo tie'), 'n02869837': (452, 'bonnet'), 'n02870880': (453, 'bookcase'), 'n02871525': (454, 'bookshop'), 'n02877765': (455, 'bottlecap'), 'n02879718': (456, 'bow'), 'n02883205': (457, 'bow tie'), 'n02892201': (458, 'brass'), 'n02892767': (459, 'brassiere'), 'n02894605': (460, 'breakwater'), 'n02895154': (461, 'breastplate'), 'n02906734': (462, 'broom'), 'n02909870': (463, 'bucket'), 'n02910353': (464, 'buckle'), 'n02916936': (465, 'bulletproof vest'), 'n02917067': (466, 'bullet train'), 'n02927161': (467, 'butcher shop'), 'n02930766': (468, 'cab'), 'n02939185': (469, 'caldron'), 'n02948072': (470, 'candle'), 'n02950826': (471, 'cannon'), 'n02951358': (472, 'canoe'), 'n02951585': (473, 'can opener'), 'n02963159': (474, 'cardigan'), 'n02965783': (475, 'car mirror'), 'n02966193': (476, 'carousel'), 'n02966687': (477, \"carpenter's kit\"), 'n02971356': (478, 'carton'), 'n02974003': (479, 'car wheel'), 'n02977058': (480, 'cash machine'), 'n02978881': (481, 'cassette'), 'n02979186': (482, 'cassette player'), 'n02980441': (483, 'castle'), 'n02981792': (484, 'catamaran'), 'n02988304': (485, 'CD player'), 'n02992211': (486, 'cello'), 'n02992529': (487, 'cellular telephone'), 'n02999410': (488, 'chain'), 'n03000134': (489, 'chainlink fence'), 'n03000247': (490, 'chain mail'), 'n03000684': (491, 'chain saw'), 'n03014705': (492, 'chest'), 'n03016953': (493, 'chiffonier'), 'n03017168': (494, 'chime'), 'n03018349': (495, 'china cabinet'), 'n03026506': (496, 'Christmas stocking'), 'n03028079': (497, 'church'), 'n03032252': (498, 'cinema'), 'n03041632': (499, 'cleaver'), 'n03042490': (500, 'cliff dwelling'), 'n03045698': (501, 'cloak'), 'n03047690': (502, 'clog'), 'n03062245': (503, 'cocktail shaker'), 'n03063599': (504, 'coffee mug'), 'n03063689': (505, 'coffeepot'), 'n03065424': (506, 'coil'), 'n03075370': (507, 'combination lock'), 'n03085013': (508, 'computer keyboard'), 'n03089624': (509, 'confectionery'), 'n03095699': (510, 'container ship'), 'n03100240': (511, 'convertible'), 'n03109150': (512, 'corkscrew'), 'n03110669': (513, 'cornet'), 'n03124043': (514, 'cowboy boot'), 'n03124170': (515, 'cowboy hat'), 'n03125729': (516, 'cradle'), 'n03126707': (517, 'crane'), 'n03127747': (518, 'crash helmet'), 'n03127925': (519, 'crate'), 'n03131574': (520, 'crib'), 'n03133878': (521, 'Crock Pot'), 'n03134739': (522, 'croquet ball'), 'n03141823': (523, 'crutch'), 'n03146219': (524, 'cuirass'), 'n03160309': (525, 'dam'), 'n03179701': (526, 'desk'), 'n03180011': (527, 'desktop computer'), 'n03187595': (528, 'dial telephone'), 'n03188531': (529, 'diaper'), 'n03196217': (530, 'digital clock'), 'n03197337': (531, 'digital watch'), 'n03201208': (532, 'dining table'), 'n03207743': (533, 'dishrag'), 'n03207941': (534, 'dishwasher'), 'n03208938': (535, 'disk brake'), 'n03216828': (536, 'dock'), 'n03218198': (537, 'dogsled'), 'n03220513': (538, 'dome'), 'n03223299': (539, 'doormat'), 'n03240683': (540, 'drilling platform'), 'n03249569': (541, 'drum'), 'n03250847': (542, 'drumstick'), 'n03255030': (543, 'dumbbell'), 'n03259280': (544, 'Dutch oven'), 'n03271574': (545, 'electric fan'), 'n03272010': (546, 'electric guitar'), 'n03272562': (547, 'electric locomotive'), 'n03290653': (548, 'entertainment center'), 'n03291819': (549, 'envelope'), 'n03297495': (550, 'espresso maker'), 'n03314780': (551, 'face powder'), 'n03325584': (552, 'feather boa'), 'n03337140': (553, 'file'), 'n03344393': (554, 'fireboat'), 'n03345487': (555, 'fire engine'), 'n03347037': (556, 'fire screen'), 'n03355925': (557, 'flagpole'), 'n03372029': (558, 'flute'), 'n03376595': (559, 'folding chair'), 'n03379051': (560, 'football helmet'), 'n03384352': (561, 'forklift'), 'n03388043': (562, 'fountain'), 'n03388183': (563, 'fountain pen'), 'n03388549': (564, 'four-poster'), 'n03393912': (565, 'freight car'), 'n03394916': (566, 'French horn'), 'n03400231': (567, 'frying pan'), 'n03404251': (568, 'fur coat'), 'n03417042': (569, 'garbage truck'), 'n03424325': (570, 'gasmask'), 'n03425413': (571, 'gas pump'), 'n03443371': (572, 'goblet'), 'n03444034': (573, 'go-kart'), 'n03445777': (574, 'golf ball'), 'n03445924': (575, 'golfcart'), 'n03447447': (576, 'gondola'), 'n03447721': (577, 'gong'), 'n03450230': (578, 'gown'), 'n03452741': (579, 'grand piano'), 'n03457902': (580, 'greenhouse'), 'n03459775': (581, 'grille'), 'n03461385': (582, 'grocery store'), 'n03467068': (583, 'guillotine'), 'n03476684': (584, 'hair slide'), 'n03476991': (585, 'hair spray'), 'n03478589': (586, 'half track'), 'n03481172': (587, 'hammer'), 'n03482405': (588, 'hamper'), 'n03483316': (589, 'hand blower'), 'n03485407': (590, 'hand-held computer'), 'n03485794': (591, 'handkerchief'), 'n03492542': (592, 'hard disc'), 'n03494278': (593, 'harmonica'), 'n03495258': (594, 'harp'), 'n03496892': (595, 'harvester'), 'n03498962': (596, 'hatchet'), 'n03527444': (597, 'holster'), 'n03529860': (598, 'home theater'), 'n03530642': (599, 'honeycomb'), 'n03532672': (600, 'hook'), 'n03534580': (601, 'hoopskirt'), 'n03535780': (602, 'horizontal bar'), 'n03538406': (603, 'horse cart'), 'n03544143': (604, 'hourglass'), 'n03584254': (605, 'iPod'), 'n03584829': (606, 'iron'), 'n03590841': (607, \"jack-o'-lantern\"), 'n03594734': (608, 'jean'), 'n03594945': (609, 'jeep'), 'n03595614': (610, 'jersey'), 'n03598930': (611, 'jigsaw puzzle'), 'n03599486': (612, 'jinrikisha'), 'n03602883': (613, 'joystick'), 'n03617480': (614, 'kimono'), 'n03623198': (615, 'knee pad'), 'n03627232': (616, 'knot'), 'n03630383': (617, 'lab coat'), 'n03633091': (618, 'ladle'), 'n03637318': (619, 'lampshade'), 'n03642806': (620, 'laptop'), 'n03649909': (621, 'lawn mower'), 'n03657121': (622, 'lens cap'), 'n03658185': (623, 'letter opener'), 'n03661043': (624, 'library'), 'n03662601': (625, 'lifeboat'), 'n03666591': (626, 'lighter'), 'n03670208': (627, 'limousine'), 'n03673027': (628, 'liner'), 'n03676483': (629, 'lipstick'), 'n03680355': (630, 'Loafer'), 'n03690938': (631, 'lotion'), 'n03691459': (632, 'loudspeaker'), 'n03692522': (633, 'loupe'), 'n03697007': (634, 'lumbermill'), 'n03706229': (635, 'magnetic compass'), 'n03709823': (636, 'mailbag'), 'n03710193': (637, 'mailbox'), 'n03710637': (638, 'maillot'), 'n03710721': (639, 'maillot'), 'n03717622': (640, 'manhole cover'), 'n03720891': (641, 'maraca'), 'n03721384': (642, 'marimba'), 'n03724870': (643, 'mask'), 'n03729826': (644, 'matchstick'), 'n03733131': (645, 'maypole'), 'n03733281': (646, 'maze'), 'n03733805': (647, 'measuring cup'), 'n03742115': (648, 'medicine chest'), 'n03743016': (649, 'megalith'), 'n03759954': (650, 'microphone'), 'n03761084': (651, 'microwave'), 'n03763968': (652, 'military uniform'), 'n03764736': (653, 'milk can'), 'n03769881': (654, 'minibus'), 'n03770439': (655, 'miniskirt'), 'n03770679': (656, 'minivan'), 'n03773504': (657, 'missile'), 'n03775071': (658, 'mitten'), 'n03775546': (659, 'mixing bowl'), 'n03776460': (660, 'mobile home'), 'n03777568': (661, 'Model T'), 'n03777754': (662, 'modem'), 'n03781244': (663, 'monastery'), 'n03782006': (664, 'monitor'), 'n03785016': (665, 'moped'), 'n03786901': (666, 'mortar'), 'n03787032': (667, 'mortarboard'), 'n03788195': (668, 'mosque'), 'n03788365': (669, 'mosquito net'), 'n03791053': (670, 'motor scooter'), 'n03792782': (671, 'mountain bike'), 'n03792972': (672, 'mountain tent'), 'n03793489': (673, 'mouse'), 'n03794056': (674, 'mousetrap'), 'n03796401': (675, 'moving van'), 'n03803284': (676, 'muzzle'), 'n03804744': (677, 'nail'), 'n03814639': (678, 'neck brace'), 'n03814906': (679, 'necklace'), 'n03825788': (680, 'nipple'), 'n03832673': (681, 'notebook'), 'n03837869': (682, 'obelisk'), 'n03838899': (683, 'oboe'), 'n03840681': (684, 'ocarina'), 'n03841143': (685, 'odometer'), 'n03843555': (686, 'oil filter'), 'n03854065': (687, 'organ'), 'n03857828': (688, 'oscilloscope'), 'n03866082': (689, 'overskirt'), 'n03868242': (690, 'oxcart'), 'n03868863': (691, 'oxygen mask'), 'n03871628': (692, 'packet'), 'n03873416': (693, 'paddle'), 'n03874293': (694, 'paddlewheel'), 'n03874599': (695, 'padlock'), 'n03876231': (696, 'paintbrush'), 'n03877472': (697, 'pajama'), 'n03877845': (698, 'palace'), 'n03884397': (699, 'panpipe'), 'n03887697': (700, 'paper towel'), 'n03888257': (701, 'parachute'), 'n03888605': (702, 'parallel bars'), 'n03891251': (703, 'park bench'), 'n03891332': (704, 'parking meter'), 'n03895866': (705, 'passenger car'), 'n03899768': (706, 'patio'), 'n03902125': (707, 'pay-phone'), 'n03903868': (708, 'pedestal'), 'n03908618': (709, 'pencil box'), 'n03908714': (710, 'pencil sharpener'), 'n03916031': (711, 'perfume'), 'n03920288': (712, 'Petri dish'), 'n03924679': (713, 'photocopier'), 'n03929660': (714, 'pick'), 'n03929855': (715, 'pickelhaube'), 'n03930313': (716, 'picket fence'), 'n03930630': (717, 'pickup'), 'n03933933': (718, 'pier'), 'n03935335': (719, 'piggy bank'), 'n03937543': (720, 'pill bottle'), 'n03938244': (721, 'pillow'), 'n03942813': (722, 'ping-pong ball'), 'n03944341': (723, 'pinwheel'), 'n03947888': (724, 'pirate'), 'n03950228': (725, 'pitcher'), 'n03954731': (726, 'plane'), 'n03956157': (727, 'planetarium'), 'n03958227': (728, 'plastic bag'), 'n03961711': (729, 'plate rack'), 'n03967562': (730, 'plow'), 'n03970156': (731, 'plunger'), 'n03976467': (732, 'Polaroid camera'), 'n03976657': (733, 'pole'), 'n03977966': (734, 'police van'), 'n03980874': (735, 'poncho'), 'n03982430': (736, 'pool table'), 'n03983396': (737, 'pop bottle'), 'n03991062': (738, 'pot'), 'n03992509': (739, \"potter's wheel\"), 'n03995372': (740, 'power drill'), 'n03998194': (741, 'prayer rug'), 'n04004767': (742, 'printer'), 'n04005630': (743, 'prison'), 'n04008634': (744, 'projectile'), 'n04009552': (745, 'projector'), 'n04019541': (746, 'puck'), 'n04023962': (747, 'punching bag'), 'n04026417': (748, 'purse'), 'n04033901': (749, 'quill'), 'n04033995': (750, 'quilt'), 'n04037443': (751, 'racer'), 'n04039381': (752, 'racket'), 'n04040759': (753, 'radiator'), 'n04041544': (754, 'radio'), 'n04044716': (755, 'radio telescope'), 'n04049303': (756, 'rain barrel'), 'n04065272': (757, 'recreational vehicle'), 'n04067472': (758, 'reel'), 'n04069434': (759, 'reflex camera'), 'n04070727': (760, 'refrigerator'), 'n04074963': (761, 'remote control'), 'n04081281': (762, 'restaurant'), 'n04086273': (763, 'revolver'), 'n04090263': (764, 'rifle'), 'n04099969': (765, 'rocking chair'), 'n04111531': (766, 'rotisserie'), 'n04116512': (767, 'rubber eraser'), 'n04118538': (768, 'rugby ball'), 'n04118776': (769, 'rule'), 'n04120489': (770, 'running shoe'), 'n04125021': (771, 'safe'), 'n04127249': (772, 'safety pin'), 'n04131690': (773, 'saltshaker'), 'n04133789': (774, 'sandal'), 'n04136333': (775, 'sarong'), 'n04141076': (776, 'sax'), 'n04141327': (777, 'scabbard'), 'n04141975': (778, 'scale'), 'n04146614': (779, 'school bus'), 'n04147183': (780, 'schooner'), 'n04149813': (781, 'scoreboard'), 'n04152593': (782, 'screen'), 'n04153751': (783, 'screw'), 'n04154565': (784, 'screwdriver'), 'n04162706': (785, 'seat belt'), 'n04179913': (786, 'sewing machine'), 'n04192698': (787, 'shield'), 'n04200800': (788, 'shoe shop'), 'n04201297': (789, 'shoji'), 'n04204238': (790, 'shopping basket'), 'n04204347': (791, 'shopping cart'), 'n04208210': (792, 'shovel'), 'n04209133': (793, 'shower cap'), 'n04209239': (794, 'shower curtain'), 'n04228054': (795, 'ski'), 'n04229816': (796, 'ski mask'), 'n04235860': (797, 'sleeping bag'), 'n04238763': (798, 'slide rule'), 'n04239074': (799, 'sliding door'), 'n04243546': (800, 'slot'), 'n04251144': (801, 'snorkel'), 'n04252077': (802, 'snowmobile'), 'n04252225': (803, 'snowplow'), 'n04254120': (804, 'soap dispenser'), 'n04254680': (805, 'soccer ball'), 'n04254777': (806, 'sock'), 'n04258138': (807, 'solar dish'), 'n04259630': (808, 'sombrero'), 'n04263257': (809, 'soup bowl'), 'n04264628': (810, 'space bar'), 'n04265275': (811, 'space heater'), 'n04266014': (812, 'space shuttle'), 'n04270147': (813, 'spatula'), 'n04273569': (814, 'speedboat'), 'n04275548': (815, 'spider web'), 'n04277352': (816, 'spindle'), 'n04285008': (817, 'sports car'), 'n04286575': (818, 'spotlight'), 'n04296562': (819, 'stage'), 'n04310018': (820, 'steam locomotive'), 'n04311004': (821, 'steel arch bridge'), 'n04311174': (822, 'steel drum'), 'n04317175': (823, 'stethoscope'), 'n04325704': (824, 'stole'), 'n04326547': (825, 'stone wall'), 'n04328186': (826, 'stopwatch'), 'n04330267': (827, 'stove'), 'n04332243': (828, 'strainer'), 'n04335435': (829, 'streetcar'), 'n04336792': (830, 'stretcher'), 'n04344873': (831, 'studio couch'), 'n04346328': (832, 'stupa'), 'n04347754': (833, 'submarine'), 'n04350905': (834, 'suit'), 'n04355338': (835, 'sundial'), 'n04355933': (836, 'sunglass'), 'n04356056': (837, 'sunglasses'), 'n04357314': (838, 'sunscreen'), 'n04366367': (839, 'suspension bridge'), 'n04367480': (840, 'swab'), 'n04370456': (841, 'sweatshirt'), 'n04371430': (842, 'swimming trunks'), 'n04371774': (843, 'swing'), 'n04372370': (844, 'switch'), 'n04376876': (845, 'syringe'), 'n04380533': (846, 'table lamp'), 'n04389033': (847, 'tank'), 'n04392985': (848, 'tape player'), 'n04398044': (849, 'teapot'), 'n04399382': (850, 'teddy'), 'n04404412': (851, 'television'), 'n04409515': (852, 'tennis ball'), 'n04417672': (853, 'thatch'), 'n04418357': (854, 'theater curtain'), 'n04423845': (855, 'thimble'), 'n04428191': (856, 'thresher'), 'n04429376': (857, 'throne'), 'n04435653': (858, 'tile roof'), 'n04442312': (859, 'toaster'), 'n04443257': (860, 'tobacco shop'), 'n04447861': (861, 'toilet seat'), 'n04456115': (862, 'torch'), 'n04458633': (863, 'totem pole'), 'n04461696': (864, 'tow truck'), 'n04462240': (865, 'toyshop'), 'n04465501': (866, 'tractor'), 'n04467665': (867, 'trailer truck'), 'n04476259': (868, 'tray'), 'n04479046': (869, 'trench coat'), 'n04482393': (870, 'tricycle'), 'n04483307': (871, 'trimaran'), 'n04485082': (872, 'tripod'), 'n04486054': (873, 'triumphal arch'), 'n04487081': (874, 'trolleybus'), 'n04487394': (875, 'trombone'), 'n04493381': (876, 'tub'), 'n04501370': (877, 'turnstile'), 'n04505470': (878, 'typewriter keyboard'), 'n04507155': (879, 'umbrella'), 'n04509417': (880, 'unicycle'), 'n04515003': (881, 'upright'), 'n04517823': (882, 'vacuum'), 'n04522168': (883, 'vase'), 'n04523525': (884, 'vault'), 'n04525038': (885, 'velvet'), 'n04525305': (886, 'vending machine'), 'n04532106': (887, 'vestment'), 'n04532670': (888, 'viaduct'), 'n04536866': (889, 'violin'), 'n04540053': (890, 'volleyball'), 'n04542943': (891, 'waffle iron'), 'n04548280': (892, 'wall clock'), 'n04548362': (893, 'wallet'), 'n04550184': (894, 'wardrobe'), 'n04552348': (895, 'warplane'), 'n04553703': (896, 'washbasin'), 'n04554684': (897, 'washer'), 'n04557648': (898, 'water bottle'), 'n04560804': (899, 'water jug'), 'n04562935': (900, 'water tower'), 'n04579145': (901, 'whiskey jug'), 'n04579432': (902, 'whistle'), 'n04584207': (903, 'wig'), 'n04589890': (904, 'window screen'), 'n04590129': (905, 'window shade'), 'n04591157': (906, 'Windsor tie'), 'n04591713': (907, 'wine bottle'), 'n04592741': (908, 'wing'), 'n04596742': (909, 'wok'), 'n04597913': (910, 'wooden spoon'), 'n04599235': (911, 'wool'), 'n04604644': (912, 'worm fence'), 'n04606251': (913, 'wreck'), 'n04612504': (914, 'yawl'), 'n04613696': (915, 'yurt'), 'n06359193': (916, 'web site'), 'n06596364': (917, 'comic book'), 'n06785654': (918, 'crossword puzzle'), 'n06794110': (919, 'street sign'), 'n06874185': (920, 'traffic light'), 'n07248320': (921, 'book jacket'), 'n07565083': (922, 'menu'), 'n07579787': (923, 'plate'), 'n07583066': (924, 'guacamole'), 'n07584110': (925, 'consomme'), 'n07590611': (926, 'hot pot'), 'n07613480': (927, 'trifle'), 'n07614500': (928, 'ice cream'), 'n07615774': (929, 'ice lolly'), 'n07684084': (930, 'French loaf'), 'n07693725': (931, 'bagel'), 'n07695742': (932, 'pretzel'), 'n07697313': (933, 'cheeseburger'), 'n07697537': (934, 'hotdog'), 'n07711569': (935, 'mashed potato'), 'n07714571': (936, 'head cabbage'), 'n07714990': (937, 'broccoli'), 'n07715103': (938, 'cauliflower'), 'n07716358': (939, 'zucchini'), 'n07716906': (940, 'spaghetti squash'), 'n07717410': (941, 'acorn squash'), 'n07717556': (942, 'butternut squash'), 'n07718472': (943, 'cucumber'), 'n07718747': (944, 'artichoke'), 'n07720875': (945, 'bell pepper'), 'n07730033': (946, 'cardoon'), 'n07734744': (947, 'mushroom'), 'n07742313': (948, 'Granny Smith'), 'n07745940': (949, 'strawberry'), 'n07747607': (950, 'orange'), 'n07749582': (951, 'lemon'), 'n07753113': (952, 'fig'), 'n07753275': (953, 'pineapple'), 'n07753592': (954, 'banana'), 'n07754684': (955, 'jackfruit'), 'n07760859': (956, 'custard apple'), 'n07768694': (957, 'pomegranate'), 'n07802026': (958, 'hay'), 'n07831146': (959, 'carbonara'), 'n07836838': (960, 'chocolate sauce'), 'n07860988': (961, 'dough'), 'n07871810': (962, 'meat loaf'), 'n07873807': (963, 'pizza'), 'n07875152': (964, 'potpie'), 'n07880968': (965, 'burrito'), 'n07892512': (966, 'red wine'), 'n07920052': (967, 'espresso'), 'n07930864': (968, 'cup'), 'n07932039': (969, 'eggnog'), 'n09193705': (970, 'alp'), 'n09229709': (971, 'bubble'), 'n09246464': (972, 'cliff'), 'n09256479': (973, 'coral reef'), 'n09288635': (974, 'geyser'), 'n09332890': (975, 'lakeside'), 'n09399592': (976, 'promontory'), 'n09421951': (977, 'sandbar'), 'n09428293': (978, 'seashore'), 'n09468604': (979, 'valley'), 'n09472597': (980, 'volcano'), 'n09835506': (981, 'ballplayer'), 'n10148035': (982, 'groom'), 'n10565667': (983, 'scuba diver'), 'n11879895': (984, 'rapeseed'), 'n11939491': (985, 'daisy'), 'n12057211': (986, \"yellow lady's slipper\"), 'n12144580': (987, 'corn'), 'n12267677': (988, 'acorn'), 'n12620546': (989, 'hip'), 'n12768682': (990, 'buckeye'), 'n12985857': (991, 'coral fungus'), 'n12998815': (992, 'agaric'), 'n13037406': (993, 'gyromitra'), 'n13040303': (994, 'stinkhorn'), 'n13044778': (995, 'earthstar'), 'n13052670': (996, 'hen-of-the-woods'), 'n13054560': (997, 'bolete'), 'n13133613': (998, 'ear'), 'n15075141': (999, 'toilet tissue')}\n"
     ]
    }
   ],
   "source": [
    "len(code_to_labels)\n",
    "print(code_to_labels)"
   ]
  },
  {
   "cell_type": "code",
   "execution_count": 41,
   "metadata": {},
   "outputs": [
    {
     "data": {
      "application/vnd.jupyter.widget-view+json": {
       "model_id": "ab0c57a6ef3c481cb334fd74f6250d5a",
       "version_major": 2,
       "version_minor": 0
      },
      "text/plain": [
       "HBox(children=(IntProgress(value=1, bar_style='info', description='shards', max=1, style=ProgressStyle(descrip…"
      ]
     },
     "metadata": {},
     "output_type": "display_data"
    },
    {
     "data": {
      "application/vnd.jupyter.widget-view+json": {
       "model_id": "d7d0fb65093f4337ab8f9ff7f6ee5163",
       "version_major": 2,
       "version_minor": 0
      },
      "text/plain": [
       "HBox(children=(IntProgress(value=0, description='shard 0', max=391, style=ProgressStyle(description_width='ini…"
      ]
     },
     "metadata": {},
     "output_type": "display_data"
    },
    {
     "name": "stdout",
     "output_type": "stream",
     "text": [
      "\n"
     ]
    },
    {
     "ename": "KeyError",
     "evalue": "'n00023106'",
     "output_type": "error",
     "traceback": [
      "\u001b[0;31m--------------------------------\u001b[0m",
      "\u001b[0;31mKeyError\u001b[0mTraceback (most recent call last)",
      "\u001b[0;32m<ipython-input-41-0b64d4031d11>\u001b[0m in \u001b[0;36m<module>\u001b[0;34m\u001b[0m\n\u001b[1;32m     32\u001b[0m         \u001b[0mfilename\u001b[0m \u001b[0;34m=\u001b[0m \u001b[0mbytes\u001b[0m\u001b[0;34m(\u001b[0m\u001b[0mname\u001b[0m\u001b[0;34m.\u001b[0m\u001b[0mparts\u001b[0m\u001b[0;34m[\u001b[0m\u001b[0;34m-\u001b[0m\u001b[0;36m1\u001b[0m\u001b[0;34m]\u001b[0m\u001b[0;34m,\u001b[0m \u001b[0;34m'utf-8'\u001b[0m\u001b[0;34m)\u001b[0m\u001b[0;34m\u001b[0m\u001b[0;34m\u001b[0m\u001b[0m\n\u001b[1;32m     33\u001b[0m         \u001b[0msynset\u001b[0m \u001b[0;34m=\u001b[0m \u001b[0;34m'n'\u001b[0m \u001b[0;34m+\u001b[0m \u001b[0mname\u001b[0m\u001b[0;34m.\u001b[0m\u001b[0mparts\u001b[0m\u001b[0;34m[\u001b[0m\u001b[0;34m-\u001b[0m\u001b[0;36m1\u001b[0m\u001b[0;34m]\u001b[0m\u001b[0;34m[\u001b[0m\u001b[0;36m15\u001b[0m\u001b[0;34m:\u001b[0m\u001b[0;34m-\u001b[0m\u001b[0;36m5\u001b[0m\u001b[0;34m]\u001b[0m\u001b[0;34m\u001b[0m\u001b[0;34m\u001b[0m\u001b[0m\n\u001b[0;32m---> 34\u001b[0;31m         \u001b[0mlabel\u001b[0m\u001b[0;34m,\u001b[0m \u001b[0mtext\u001b[0m \u001b[0;34m=\u001b[0m \u001b[0mcode_to_labels\u001b[0m\u001b[0;34m[\u001b[0m\u001b[0msynset\u001b[0m\u001b[0;34m]\u001b[0m\u001b[0;34m\u001b[0m\u001b[0;34m\u001b[0m\u001b[0m\n\u001b[0m\u001b[1;32m     35\u001b[0m         \u001b[0msynset\u001b[0m \u001b[0;34m=\u001b[0m \u001b[0mbytes\u001b[0m\u001b[0;34m(\u001b[0m\u001b[0msynset\u001b[0m\u001b[0;34m,\u001b[0m \u001b[0;34m'utf-8'\u001b[0m\u001b[0;34m)\u001b[0m\u001b[0;34m\u001b[0m\u001b[0;34m\u001b[0m\u001b[0m\n\u001b[1;32m     36\u001b[0m         \u001b[0mtext\u001b[0m \u001b[0;34m=\u001b[0m \u001b[0mbytes\u001b[0m\u001b[0;34m(\u001b[0m\u001b[0mtext\u001b[0m\u001b[0;34m,\u001b[0m \u001b[0;34m'utf-8'\u001b[0m\u001b[0;34m)\u001b[0m\u001b[0;34m\u001b[0m\u001b[0;34m\u001b[0m\u001b[0m\n",
      "\u001b[0;31mKeyError\u001b[0m: 'n00023106'"
     ]
    }
   ],
   "source": [
    "def get_image_bytes(filename):\n",
    "    im = Image.open(filename)\n",
    "    x, y = im.size\n",
    "    if x > y:\n",
    "        cropped = im.crop(((x-y) // 2, 0,(x+y) // 2, y))\n",
    "    elif x < y:\n",
    "        cropped = im.crop((0, (y-x) // 2, x, (y+x) // 2))\n",
    "    else:\n",
    "        cropped = im\n",
    "    \n",
    "    im = cropped.resize((256, 256), Image.BICUBIC)\n",
    "    im_bytes = io.BytesIO()\n",
    "    im.save(im_bytes, format='JPEG')\n",
    "    return im_bytes.getvalue()\n",
    "\n",
    "def to_example(encoded, filename, label, synset, text):\n",
    "    feature_dict = {\n",
    "        'image/encoded': tf.train.Feature(bytes_list=tf.train.BytesList(value=[encoded])),\n",
    "        'image/filename': tf.train.Feature(bytes_list=tf.train.BytesList(value=[filename])),\n",
    "        'image/class/label' : tf.train.Feature(int64_list=tf.train.Int64List(value=[label])),\n",
    "        'image/class/synset' : tf.train.Feature(bytes_list=tf.train.BytesList(value=[synset])),\n",
    "        'image/class/text' : tf.train.Feature(bytes_list=tf.train.BytesList(value=[text])),\n",
    "    }\n",
    "    \n",
    "    return tf.train.Example(features=tf.train.Features(feature=feature_dict))\n",
    "\n",
    "train_tfrecord_path = '/home/joel/imagenet/tfrecords/val-{:04}-0128'\n",
    "for i, names in tqdm_notebook(enumerate(sharded_filenames), desc='shards'):\n",
    "    writer = tf.python_io.TFRecordWriter(train_tfrecord_path.format(i))\n",
    "    for name in tqdm_notebook(names, desc='shard {}'.format(i)):\n",
    "        encoded = get_image_bytes(name)\n",
    "        filename = bytes(name.parts[-1], 'utf-8')\n",
    "        synset = 'n' + name.parts[-1][15:-5]\n",
    "        label, text = code_to_labels[synset]\n",
    "        synset = bytes(synset, 'utf-8')\n",
    "        text = bytes(text, 'utf-8')\n",
    "        writer.write(to_example(encoded, filename, label, synset, text).SerializeToString())\n",
    "    \n",
    "    writer.close()\n",
    "    "
   ]
  },
  {
   "cell_type": "code",
   "execution_count": 22,
   "metadata": {},
   "outputs": [],
   "source": [
    "corrupt = sharded_filenames[468]\n",
    "for name in corrupt:\n",
    "    im = Image.open(name)\n",
    "    exif_data = im._getexif()"
   ]
  },
  {
   "cell_type": "code",
   "execution_count": null,
   "metadata": {},
   "outputs": [],
   "source": [
    "df = tensorshow.html_file_from('/home/joel/imagenet/tfrecords/train-0000-1024', 'tfrecord.html', limit=100)"
   ]
  },
  {
   "cell_type": "code",
   "execution_count": null,
   "metadata": {},
   "outputs": [],
   "source": [
    "im = Image.open('/home/joel/imagenet/ILSVRC2012_img_train/n02105855/n02105855_321.JPEG')"
   ]
  },
  {
   "cell_type": "code",
   "execution_count": null,
   "metadata": {},
   "outputs": [],
   "source": [
    "x, y = im.size"
   ]
  },
  {
   "cell_type": "code",
   "execution_count": null,
   "metadata": {},
   "outputs": [],
   "source": [
    "min_dim = min(x, y)\n",
    "256/min_dim\n",
    "im.show()"
   ]
  },
  {
   "cell_type": "code",
   "execution_count": null,
   "metadata": {},
   "outputs": [],
   "source": [
    "if x > y:\n",
    "    cropped = im.crop(((x-y) // 2, 0,(x+y) // 2, y))\n",
    "    cropped.show()"
   ]
  },
  {
   "cell_type": "code",
   "execution_count": null,
   "metadata": {},
   "outputs": [],
   "source": [
    "resized = cropped.resize((256, 256), Image.BICUBIC)"
   ]
  },
  {
   "cell_type": "code",
   "execution_count": null,
   "metadata": {},
   "outputs": [],
   "source": [
    "resized.show()"
   ]
  },
  {
   "cell_type": "code",
   "execution_count": null,
   "metadata": {},
   "outputs": [],
   "source": []
  },
  {
   "cell_type": "code",
   "execution_count": null,
   "metadata": {},
   "outputs": [],
   "source": [
    "b = get_image_bytes('/home/joel/imagenet/ILSVRC2012_img_train/n02105855/n02105855_321.JPEG')"
   ]
  },
  {
   "cell_type": "code",
   "execution_count": null,
   "metadata": {},
   "outputs": [],
   "source": []
  },
  {
   "cell_type": "code",
   "execution_count": 28,
   "metadata": {},
   "outputs": [],
   "source": [
    "import exifread\n",
    "from functools import reduce"
   ]
  },
  {
   "cell_type": "code",
   "execution_count": 29,
   "metadata": {},
   "outputs": [
    {
     "name": "stdout",
     "output_type": "stream",
     "text": [
      "/home/joel/imagenet/ILSVRC2012_img_train/n02514041/n02514041_7784.JPEG\n",
      "/home/joel/imagenet/ILSVRC2012_img_train/n02090379/n02090379_1696.JPEG\n"
     ]
    },
    {
     "name": "stderr",
     "output_type": "stream",
     "text": [
      "Possibly corrupted field UserComment in EXIF IFD\n",
      "Possibly corrupted field LightingType in MakerNote IFD\n",
      "Possibly corrupted field NoiseReduction in MakerNote IFD\n",
      "Possibly corrupted field SoftwareRelease in MakerNote IFD\n",
      "Possibly corrupted field ImageDescription in Image IFD\n",
      "Possibly corrupted field Software in Image IFD\n",
      "Possibly corrupted field ISOSelection in MakerNote IFD\n",
      "Possibly corrupted field SoftwareRelease in MakerNote IFD\n",
      "Possibly corrupted field SoftwareRelease in MakerNote IFD\n",
      "Possibly corrupted field SerialNumber in MakerNote IFD\n",
      "Possibly corrupted field OwnerName in MakerNote IFD\n"
     ]
    },
    {
     "name": "stdout",
     "output_type": "stream",
     "text": [
      "/home/joel/imagenet/ILSVRC2012_img_train/n02782093/n02782093_4169.JPEG\n",
      "/home/joel/imagenet/ILSVRC2012_img_train/n01873310/n01873310_30386.JPEG\n"
     ]
    },
    {
     "name": "stderr",
     "output_type": "stream",
     "text": [
      "Possibly corrupted field ISOSelection in MakerNote IFD\n",
      "Possibly corrupted field Copyright in Image IFD\n",
      "Possibly corrupted field PictureInfo in MakerNote IFD\n",
      "Possibly corrupted field Software in Image IFD\n",
      "Possibly corrupted field LightingType in MakerNote IFD\n"
     ]
    },
    {
     "name": "stdout",
     "output_type": "stream",
     "text": [
      "/home/joel/imagenet/ILSVRC2012_img_train/n03874293/n03874293_4803.JPEG\n",
      "/home/joel/imagenet/ILSVRC2012_img_train/n03991062/n03991062_19073.JPEG\n"
     ]
    }
   ],
   "source": [
    "corrupted_shards = [169, 302, 346, 468]\n",
    "for name in reduce(lambda x, y: x+y, [sharded_filenames[i] for i in corrupted_shards]):\n",
    "    with open(name, 'rb') as f:\n",
    "        try:\n",
    "            tags = exifread.process_file(f, strict=True)\n",
    "        except:\n",
    "            print(name)"
   ]
  },
  {
   "cell_type": "code",
   "execution_count": 42,
   "metadata": {},
   "outputs": [],
   "source": [
    "import xml.etree.ElementTree as ET"
   ]
  },
  {
   "cell_type": "code",
   "execution_count": 43,
   "metadata": {},
   "outputs": [],
   "source": [
    "val_imgs = Path('/home/joel/imagenet/ILSVRC2012_img_val')\n",
    "val_labels = Path('/home/joel/imagenet/ILSVRC2012_bbox_val_v3/val')"
   ]
  },
  {
   "cell_type": "code",
   "execution_count": 50,
   "metadata": {},
   "outputs": [],
   "source": [
    "img_fnames = sorted(val_imgs.iterdir())\n",
    "label_fnames = sorted(val_labels.iterdir())"
   ]
  },
  {
   "cell_type": "code",
   "execution_count": 51,
   "metadata": {},
   "outputs": [
    {
     "data": {
      "text/plain": [
       "True"
      ]
     },
     "execution_count": 51,
     "metadata": {},
     "output_type": "execute_result"
    }
   ],
   "source": [
    "len(img_fnames) == len(label_fnames)"
   ]
  },
  {
   "cell_type": "code",
   "execution_count": 52,
   "metadata": {},
   "outputs": [],
   "source": [
    "fname_label = list(zip(img_fnames, label_fnames))"
   ]
  },
  {
   "cell_type": "code",
   "execution_count": 48,
   "metadata": {},
   "outputs": [],
   "source": [
    "fname_label = list(fname_label)"
   ]
  },
  {
   "cell_type": "code",
   "execution_count": 53,
   "metadata": {},
   "outputs": [
    {
     "data": {
      "text/plain": [
       "[(PosixPath('/home/joel/imagenet/ILSVRC2012_img_val/ILSVRC2012_val_00000001.JPEG'),\n",
       "  PosixPath('/home/joel/imagenet/ILSVRC2012_bbox_val_v3/val/ILSVRC2012_val_00000001.xml')),\n",
       " (PosixPath('/home/joel/imagenet/ILSVRC2012_img_val/ILSVRC2012_val_00000002.JPEG'),\n",
       "  PosixPath('/home/joel/imagenet/ILSVRC2012_bbox_val_v3/val/ILSVRC2012_val_00000002.xml')),\n",
       " (PosixPath('/home/joel/imagenet/ILSVRC2012_img_val/ILSVRC2012_val_00000003.JPEG'),\n",
       "  PosixPath('/home/joel/imagenet/ILSVRC2012_bbox_val_v3/val/ILSVRC2012_val_00000003.xml'))]"
      ]
     },
     "execution_count": 53,
     "metadata": {},
     "output_type": "execute_result"
    }
   ],
   "source": [
    "fname_label[:3]"
   ]
  },
  {
   "cell_type": "code",
   "execution_count": 56,
   "metadata": {},
   "outputs": [
    {
     "data": {
      "application/vnd.jupyter.widget-view+json": {
       "model_id": "c8b2721bc0a34cf8920b99cfe28f3ce3",
       "version_major": 2,
       "version_minor": 0
      },
      "text/plain": [
       "HBox(children=(IntProgress(value=0, max=50000), HTML(value='')))"
      ]
     },
     "metadata": {},
     "output_type": "display_data"
    },
    {
     "name": "stdout",
     "output_type": "stream",
     "text": [
      "/home/joel/imagenet/ILSVRC2012_img_val/ILSVRC2012_val_00000001.JPEG\n",
      "/home/joel/imagenet/ILSVRC2012_bbox_val_v3/val/ILSVRC2012_val_00000001.xml\n",
      "\n",
      "/home/joel/imagenet/ILSVRC2012_img_val/ILSVRC2012_val_00010001.JPEG\n",
      "/home/joel/imagenet/ILSVRC2012_bbox_val_v3/val/ILSVRC2012_val_00010001.xml\n",
      "\n",
      "/home/joel/imagenet/ILSVRC2012_img_val/ILSVRC2012_val_00020001.JPEG\n",
      "/home/joel/imagenet/ILSVRC2012_bbox_val_v3/val/ILSVRC2012_val_00020001.xml\n",
      "\n",
      "/home/joel/imagenet/ILSVRC2012_img_val/ILSVRC2012_val_00030001.JPEG\n",
      "/home/joel/imagenet/ILSVRC2012_bbox_val_v3/val/ILSVRC2012_val_00030001.xml\n",
      "\n",
      "/home/joel/imagenet/ILSVRC2012_img_val/ILSVRC2012_val_00040001.JPEG\n",
      "/home/joel/imagenet/ILSVRC2012_bbox_val_v3/val/ILSVRC2012_val_00040001.xml\n",
      "\n",
      "\n"
     ]
    }
   ],
   "source": [
    "i = 0\n",
    "for img, label in tqdm_notebook(fname_label):\n",
    "    if img.parts[-1].lstrip('ILSVRC2012_val_').rstrip('.JPEG') != label.parts[-1].lstrip('ILSVRC2012_val_').rstrip('.xml'):\n",
    "        print('oh no')\n",
    "    \n",
    "    if i % 10000 == 0:\n",
    "        print(img)\n",
    "        print(label)\n",
    "        print()\n",
    "    \n",
    "    i += 1"
   ]
  },
  {
   "cell_type": "code",
   "execution_count": 70,
   "metadata": {},
   "outputs": [],
   "source": [
    "# for img, label in tqdm_notebook(fname_label):\n",
    "#     tree = ET.parse(label)\n",
    "#     root = tree.getroot()\n",
    "#     synset = root.find(\"./object/name\").text\n",
    "#     assert synset in code_to_labels\n",
    "\n",
    "random.shuffle(fname_label)\n",
    "imagenet_filenames = fname_label\n",
    "sharded_filenames = []\n",
    "shard_size = len(imagenet_filenames) // 128 + 1\n",
    "assert (shard_size * 128 >= len(imagenet_filenames) and (shard_size-1) * 128 < len(imagenet_filenames))\n",
    "for i in range(0, len(imagenet_filenames), shard_size):\n",
    "    sharded_filenames.append(imagenet_filenames[i:i+shard_size])"
   ]
  },
  {
   "cell_type": "code",
   "execution_count": 71,
   "metadata": {},
   "outputs": [
    {
     "data": {
      "text/plain": [
       "50000"
      ]
     },
     "execution_count": 71,
     "metadata": {},
     "output_type": "execute_result"
    }
   ],
   "source": [
    "len(imagenet_filenames)"
   ]
  },
  {
   "cell_type": "code",
   "execution_count": 72,
   "metadata": {},
   "outputs": [
    {
     "data": {
      "text/plain": [
       "128"
      ]
     },
     "execution_count": 72,
     "metadata": {},
     "output_type": "execute_result"
    }
   ],
   "source": [
    "len(sharded_filenames)"
   ]
  },
  {
   "cell_type": "code",
   "execution_count": 73,
   "metadata": {},
   "outputs": [
    {
     "data": {
      "text/plain": [
       "50000"
      ]
     },
     "execution_count": 73,
     "metadata": {},
     "output_type": "execute_result"
    }
   ],
   "source": [
    "sum(len(x) for x in sharded_filenames)"
   ]
  },
  {
   "cell_type": "code",
   "execution_count": 75,
   "metadata": {},
   "outputs": [
    {
     "data": {
      "application/vnd.jupyter.widget-view+json": {
       "model_id": "c4ba5b70660a4bb18d336e0cb3b8dbe9",
       "version_major": 2,
       "version_minor": 0
      },
      "text/plain": [
       "HBox(children=(IntProgress(value=1, bar_style='info', description='shards', max=1, style=ProgressStyle(descrip…"
      ]
     },
     "metadata": {},
     "output_type": "display_data"
    },
    {
     "data": {
      "application/vnd.jupyter.widget-view+json": {
       "model_id": "4445c638a3824b4c9e78df70cdbeda7f",
       "version_major": 2,
       "version_minor": 0
      },
      "text/plain": [
       "HBox(children=(IntProgress(value=0, description='shard 0', max=391, style=ProgressStyle(description_width='ini…"
      ]
     },
     "metadata": {},
     "output_type": "display_data"
    },
    {
     "data": {
      "application/vnd.jupyter.widget-view+json": {
       "model_id": "432bcf8430b04043a50cdeba5b8a11f0",
       "version_major": 2,
       "version_minor": 0
      },
      "text/plain": [
       "HBox(children=(IntProgress(value=0, description='shard 1', max=391, style=ProgressStyle(description_width='ini…"
      ]
     },
     "metadata": {},
     "output_type": "display_data"
    },
    {
     "data": {
      "application/vnd.jupyter.widget-view+json": {
       "model_id": "bdfbf401ad1048ac8f9e18e6a2119282",
       "version_major": 2,
       "version_minor": 0
      },
      "text/plain": [
       "HBox(children=(IntProgress(value=0, description='shard 2', max=391, style=ProgressStyle(description_width='ini…"
      ]
     },
     "metadata": {},
     "output_type": "display_data"
    },
    {
     "data": {
      "application/vnd.jupyter.widget-view+json": {
       "model_id": "ca5f34afa4864e949f8909ce1112e016",
       "version_major": 2,
       "version_minor": 0
      },
      "text/plain": [
       "HBox(children=(IntProgress(value=0, description='shard 3', max=391, style=ProgressStyle(description_width='ini…"
      ]
     },
     "metadata": {},
     "output_type": "display_data"
    },
    {
     "data": {
      "application/vnd.jupyter.widget-view+json": {
       "model_id": "18196af4fa2041e3a9d0ffcf1a6c9cde",
       "version_major": 2,
       "version_minor": 0
      },
      "text/plain": [
       "HBox(children=(IntProgress(value=0, description='shard 4', max=391, style=ProgressStyle(description_width='ini…"
      ]
     },
     "metadata": {},
     "output_type": "display_data"
    },
    {
     "data": {
      "application/vnd.jupyter.widget-view+json": {
       "model_id": "706b7296200540f9b911b569be5d59df",
       "version_major": 2,
       "version_minor": 0
      },
      "text/plain": [
       "HBox(children=(IntProgress(value=0, description='shard 5', max=391, style=ProgressStyle(description_width='ini…"
      ]
     },
     "metadata": {},
     "output_type": "display_data"
    },
    {
     "data": {
      "application/vnd.jupyter.widget-view+json": {
       "model_id": "15a50cdf13ee48248cc33d0420872143",
       "version_major": 2,
       "version_minor": 0
      },
      "text/plain": [
       "HBox(children=(IntProgress(value=0, description='shard 6', max=391, style=ProgressStyle(description_width='ini…"
      ]
     },
     "metadata": {},
     "output_type": "display_data"
    },
    {
     "data": {
      "application/vnd.jupyter.widget-view+json": {
       "model_id": "69cb57b31f8a4b0fa5f3695971d34261",
       "version_major": 2,
       "version_minor": 0
      },
      "text/plain": [
       "HBox(children=(IntProgress(value=0, description='shard 7', max=391, style=ProgressStyle(description_width='ini…"
      ]
     },
     "metadata": {},
     "output_type": "display_data"
    },
    {
     "data": {
      "application/vnd.jupyter.widget-view+json": {
       "model_id": "1502f27dead04c89965ef664be3170f3",
       "version_major": 2,
       "version_minor": 0
      },
      "text/plain": [
       "HBox(children=(IntProgress(value=0, description='shard 8', max=391, style=ProgressStyle(description_width='ini…"
      ]
     },
     "metadata": {},
     "output_type": "display_data"
    },
    {
     "data": {
      "application/vnd.jupyter.widget-view+json": {
       "model_id": "e18d512ca6b2464e9a1f376e6b928711",
       "version_major": 2,
       "version_minor": 0
      },
      "text/plain": [
       "HBox(children=(IntProgress(value=0, description='shard 9', max=391, style=ProgressStyle(description_width='ini…"
      ]
     },
     "metadata": {},
     "output_type": "display_data"
    },
    {
     "data": {
      "application/vnd.jupyter.widget-view+json": {
       "model_id": "ea9d54b49412487bbe10927597fa314f",
       "version_major": 2,
       "version_minor": 0
      },
      "text/plain": [
       "HBox(children=(IntProgress(value=0, description='shard 10', max=391, style=ProgressStyle(description_width='in…"
      ]
     },
     "metadata": {},
     "output_type": "display_data"
    },
    {
     "data": {
      "application/vnd.jupyter.widget-view+json": {
       "model_id": "6b1272bbbcb3400aa67e71014ccebdcb",
       "version_major": 2,
       "version_minor": 0
      },
      "text/plain": [
       "HBox(children=(IntProgress(value=0, description='shard 11', max=391, style=ProgressStyle(description_width='in…"
      ]
     },
     "metadata": {},
     "output_type": "display_data"
    },
    {
     "data": {
      "application/vnd.jupyter.widget-view+json": {
       "model_id": "63f029340adb44bd8344341f9247f72c",
       "version_major": 2,
       "version_minor": 0
      },
      "text/plain": [
       "HBox(children=(IntProgress(value=0, description='shard 12', max=391, style=ProgressStyle(description_width='in…"
      ]
     },
     "metadata": {},
     "output_type": "display_data"
    },
    {
     "data": {
      "application/vnd.jupyter.widget-view+json": {
       "model_id": "a38e722621aa4238865921f6e1ae8e34",
       "version_major": 2,
       "version_minor": 0
      },
      "text/plain": [
       "HBox(children=(IntProgress(value=0, description='shard 13', max=391, style=ProgressStyle(description_width='in…"
      ]
     },
     "metadata": {},
     "output_type": "display_data"
    },
    {
     "data": {
      "application/vnd.jupyter.widget-view+json": {
       "model_id": "c8fe575d047346ecb97bacefe1aab3b5",
       "version_major": 2,
       "version_minor": 0
      },
      "text/plain": [
       "HBox(children=(IntProgress(value=0, description='shard 14', max=391, style=ProgressStyle(description_width='in…"
      ]
     },
     "metadata": {},
     "output_type": "display_data"
    },
    {
     "data": {
      "application/vnd.jupyter.widget-view+json": {
       "model_id": "ed594a6fba7e45b6874978794daab75f",
       "version_major": 2,
       "version_minor": 0
      },
      "text/plain": [
       "HBox(children=(IntProgress(value=0, description='shard 15', max=391, style=ProgressStyle(description_width='in…"
      ]
     },
     "metadata": {},
     "output_type": "display_data"
    },
    {
     "data": {
      "application/vnd.jupyter.widget-view+json": {
       "model_id": "7d7ffd56fdd04501871b5babee029fb1",
       "version_major": 2,
       "version_minor": 0
      },
      "text/plain": [
       "HBox(children=(IntProgress(value=0, description='shard 16', max=391, style=ProgressStyle(description_width='in…"
      ]
     },
     "metadata": {},
     "output_type": "display_data"
    },
    {
     "data": {
      "application/vnd.jupyter.widget-view+json": {
       "model_id": "fcf87921fd45491d931148a934ab028e",
       "version_major": 2,
       "version_minor": 0
      },
      "text/plain": [
       "HBox(children=(IntProgress(value=0, description='shard 17', max=391, style=ProgressStyle(description_width='in…"
      ]
     },
     "metadata": {},
     "output_type": "display_data"
    },
    {
     "data": {
      "application/vnd.jupyter.widget-view+json": {
       "model_id": "6ee6c1f481154c719690a67d92408962",
       "version_major": 2,
       "version_minor": 0
      },
      "text/plain": [
       "HBox(children=(IntProgress(value=0, description='shard 18', max=391, style=ProgressStyle(description_width='in…"
      ]
     },
     "metadata": {},
     "output_type": "display_data"
    },
    {
     "data": {
      "application/vnd.jupyter.widget-view+json": {
       "model_id": "fc2c0bcd760740858281ac10891ddf1c",
       "version_major": 2,
       "version_minor": 0
      },
      "text/plain": [
       "HBox(children=(IntProgress(value=0, description='shard 19', max=391, style=ProgressStyle(description_width='in…"
      ]
     },
     "metadata": {},
     "output_type": "display_data"
    },
    {
     "data": {
      "application/vnd.jupyter.widget-view+json": {
       "model_id": "2e64953db57145f6980842921413de83",
       "version_major": 2,
       "version_minor": 0
      },
      "text/plain": [
       "HBox(children=(IntProgress(value=0, description='shard 20', max=391, style=ProgressStyle(description_width='in…"
      ]
     },
     "metadata": {},
     "output_type": "display_data"
    },
    {
     "data": {
      "application/vnd.jupyter.widget-view+json": {
       "model_id": "2b828f21c4d94b919f95fd27190c85bf",
       "version_major": 2,
       "version_minor": 0
      },
      "text/plain": [
       "HBox(children=(IntProgress(value=0, description='shard 21', max=391, style=ProgressStyle(description_width='in…"
      ]
     },
     "metadata": {},
     "output_type": "display_data"
    },
    {
     "data": {
      "application/vnd.jupyter.widget-view+json": {
       "model_id": "d1d204236c9b40c8aecb9dbf84943ee2",
       "version_major": 2,
       "version_minor": 0
      },
      "text/plain": [
       "HBox(children=(IntProgress(value=0, description='shard 22', max=391, style=ProgressStyle(description_width='in…"
      ]
     },
     "metadata": {},
     "output_type": "display_data"
    },
    {
     "data": {
      "application/vnd.jupyter.widget-view+json": {
       "model_id": "9744dc3e29304caea91299bd2bef0169",
       "version_major": 2,
       "version_minor": 0
      },
      "text/plain": [
       "HBox(children=(IntProgress(value=0, description='shard 23', max=391, style=ProgressStyle(description_width='in…"
      ]
     },
     "metadata": {},
     "output_type": "display_data"
    },
    {
     "data": {
      "application/vnd.jupyter.widget-view+json": {
       "model_id": "bd38c3e44a534047ad8d500d460775c9",
       "version_major": 2,
       "version_minor": 0
      },
      "text/plain": [
       "HBox(children=(IntProgress(value=0, description='shard 24', max=391, style=ProgressStyle(description_width='in…"
      ]
     },
     "metadata": {},
     "output_type": "display_data"
    },
    {
     "data": {
      "application/vnd.jupyter.widget-view+json": {
       "model_id": "f07d8c5ef434411dbfbaa66a9041b648",
       "version_major": 2,
       "version_minor": 0
      },
      "text/plain": [
       "HBox(children=(IntProgress(value=0, description='shard 25', max=391, style=ProgressStyle(description_width='in…"
      ]
     },
     "metadata": {},
     "output_type": "display_data"
    },
    {
     "data": {
      "application/vnd.jupyter.widget-view+json": {
       "model_id": "537d1db202014caf8b648369337fb01c",
       "version_major": 2,
       "version_minor": 0
      },
      "text/plain": [
       "HBox(children=(IntProgress(value=0, description='shard 26', max=391, style=ProgressStyle(description_width='in…"
      ]
     },
     "metadata": {},
     "output_type": "display_data"
    },
    {
     "data": {
      "application/vnd.jupyter.widget-view+json": {
       "model_id": "12a3b2ebcbdc47508001aa46e4404837",
       "version_major": 2,
       "version_minor": 0
      },
      "text/plain": [
       "HBox(children=(IntProgress(value=0, description='shard 27', max=391, style=ProgressStyle(description_width='in…"
      ]
     },
     "metadata": {},
     "output_type": "display_data"
    },
    {
     "data": {
      "application/vnd.jupyter.widget-view+json": {
       "model_id": "646dbc69c872430baed56dc219f19515",
       "version_major": 2,
       "version_minor": 0
      },
      "text/plain": [
       "HBox(children=(IntProgress(value=0, description='shard 28', max=391, style=ProgressStyle(description_width='in…"
      ]
     },
     "metadata": {},
     "output_type": "display_data"
    },
    {
     "data": {
      "application/vnd.jupyter.widget-view+json": {
       "model_id": "ab2337f32cec42e3ad1e65b89da16271",
       "version_major": 2,
       "version_minor": 0
      },
      "text/plain": [
       "HBox(children=(IntProgress(value=0, description='shard 29', max=391, style=ProgressStyle(description_width='in…"
      ]
     },
     "metadata": {},
     "output_type": "display_data"
    },
    {
     "data": {
      "application/vnd.jupyter.widget-view+json": {
       "model_id": "8cf0a1bf53ea4ed68ec92d2f18077644",
       "version_major": 2,
       "version_minor": 0
      },
      "text/plain": [
       "HBox(children=(IntProgress(value=0, description='shard 30', max=391, style=ProgressStyle(description_width='in…"
      ]
     },
     "metadata": {},
     "output_type": "display_data"
    },
    {
     "data": {
      "application/vnd.jupyter.widget-view+json": {
       "model_id": "d0deb4e24091413aa21bcea84a3ed12c",
       "version_major": 2,
       "version_minor": 0
      },
      "text/plain": [
       "HBox(children=(IntProgress(value=0, description='shard 31', max=391, style=ProgressStyle(description_width='in…"
      ]
     },
     "metadata": {},
     "output_type": "display_data"
    },
    {
     "data": {
      "application/vnd.jupyter.widget-view+json": {
       "model_id": "b8f48fcd03bc4b69b4d1958327d75c2f",
       "version_major": 2,
       "version_minor": 0
      },
      "text/plain": [
       "HBox(children=(IntProgress(value=0, description='shard 32', max=391, style=ProgressStyle(description_width='in…"
      ]
     },
     "metadata": {},
     "output_type": "display_data"
    },
    {
     "data": {
      "application/vnd.jupyter.widget-view+json": {
       "model_id": "e74d2822e51948cf82cb6075ca516cca",
       "version_major": 2,
       "version_minor": 0
      },
      "text/plain": [
       "HBox(children=(IntProgress(value=0, description='shard 33', max=391, style=ProgressStyle(description_width='in…"
      ]
     },
     "metadata": {},
     "output_type": "display_data"
    },
    {
     "data": {
      "application/vnd.jupyter.widget-view+json": {
       "model_id": "8d1b1d6c2a26428d8d5f72ab37b52a46",
       "version_major": 2,
       "version_minor": 0
      },
      "text/plain": [
       "HBox(children=(IntProgress(value=0, description='shard 34', max=391, style=ProgressStyle(description_width='in…"
      ]
     },
     "metadata": {},
     "output_type": "display_data"
    },
    {
     "data": {
      "application/vnd.jupyter.widget-view+json": {
       "model_id": "ad3899f86e8d4adf98d60640e4061f66",
       "version_major": 2,
       "version_minor": 0
      },
      "text/plain": [
       "HBox(children=(IntProgress(value=0, description='shard 35', max=391, style=ProgressStyle(description_width='in…"
      ]
     },
     "metadata": {},
     "output_type": "display_data"
    },
    {
     "data": {
      "application/vnd.jupyter.widget-view+json": {
       "model_id": "39660c6caa394615b7f62f21614bacf5",
       "version_major": 2,
       "version_minor": 0
      },
      "text/plain": [
       "HBox(children=(IntProgress(value=0, description='shard 36', max=391, style=ProgressStyle(description_width='in…"
      ]
     },
     "metadata": {},
     "output_type": "display_data"
    },
    {
     "data": {
      "application/vnd.jupyter.widget-view+json": {
       "model_id": "7c739c73e8644a6684fb9d49b9972f56",
       "version_major": 2,
       "version_minor": 0
      },
      "text/plain": [
       "HBox(children=(IntProgress(value=0, description='shard 37', max=391, style=ProgressStyle(description_width='in…"
      ]
     },
     "metadata": {},
     "output_type": "display_data"
    },
    {
     "data": {
      "application/vnd.jupyter.widget-view+json": {
       "model_id": "cf1beb3e8885485d9dfa15056df19958",
       "version_major": 2,
       "version_minor": 0
      },
      "text/plain": [
       "HBox(children=(IntProgress(value=0, description='shard 38', max=391, style=ProgressStyle(description_width='in…"
      ]
     },
     "metadata": {},
     "output_type": "display_data"
    },
    {
     "data": {
      "application/vnd.jupyter.widget-view+json": {
       "model_id": "ffb7e5efb9ae41ffa5945b0bf28882e2",
       "version_major": 2,
       "version_minor": 0
      },
      "text/plain": [
       "HBox(children=(IntProgress(value=0, description='shard 39', max=391, style=ProgressStyle(description_width='in…"
      ]
     },
     "metadata": {},
     "output_type": "display_data"
    },
    {
     "data": {
      "application/vnd.jupyter.widget-view+json": {
       "model_id": "c4c831589ec642daac453376a8fe8aa1",
       "version_major": 2,
       "version_minor": 0
      },
      "text/plain": [
       "HBox(children=(IntProgress(value=0, description='shard 40', max=391, style=ProgressStyle(description_width='in…"
      ]
     },
     "metadata": {},
     "output_type": "display_data"
    },
    {
     "data": {
      "application/vnd.jupyter.widget-view+json": {
       "model_id": "45548d160e974dc59e246726a8fbb72b",
       "version_major": 2,
       "version_minor": 0
      },
      "text/plain": [
       "HBox(children=(IntProgress(value=0, description='shard 41', max=391, style=ProgressStyle(description_width='in…"
      ]
     },
     "metadata": {},
     "output_type": "display_data"
    },
    {
     "data": {
      "application/vnd.jupyter.widget-view+json": {
       "model_id": "2eb4ec09b839434a8f6c6981e875ff10",
       "version_major": 2,
       "version_minor": 0
      },
      "text/plain": [
       "HBox(children=(IntProgress(value=0, description='shard 42', max=391, style=ProgressStyle(description_width='in…"
      ]
     },
     "metadata": {},
     "output_type": "display_data"
    },
    {
     "data": {
      "application/vnd.jupyter.widget-view+json": {
       "model_id": "bfba141531d7493e9af03a8b6527a05b",
       "version_major": 2,
       "version_minor": 0
      },
      "text/plain": [
       "HBox(children=(IntProgress(value=0, description='shard 43', max=391, style=ProgressStyle(description_width='in…"
      ]
     },
     "metadata": {},
     "output_type": "display_data"
    },
    {
     "data": {
      "application/vnd.jupyter.widget-view+json": {
       "model_id": "30414906f986461a903d9f1f0b5a365d",
       "version_major": 2,
       "version_minor": 0
      },
      "text/plain": [
       "HBox(children=(IntProgress(value=0, description='shard 44', max=391, style=ProgressStyle(description_width='in…"
      ]
     },
     "metadata": {},
     "output_type": "display_data"
    },
    {
     "data": {
      "application/vnd.jupyter.widget-view+json": {
       "model_id": "4d012c9d3a834c008939a32befb1c67f",
       "version_major": 2,
       "version_minor": 0
      },
      "text/plain": [
       "HBox(children=(IntProgress(value=0, description='shard 45', max=391, style=ProgressStyle(description_width='in…"
      ]
     },
     "metadata": {},
     "output_type": "display_data"
    },
    {
     "data": {
      "application/vnd.jupyter.widget-view+json": {
       "model_id": "5e7321d52628482d9f0bd106183242af",
       "version_major": 2,
       "version_minor": 0
      },
      "text/plain": [
       "HBox(children=(IntProgress(value=0, description='shard 46', max=391, style=ProgressStyle(description_width='in…"
      ]
     },
     "metadata": {},
     "output_type": "display_data"
    },
    {
     "data": {
      "application/vnd.jupyter.widget-view+json": {
       "model_id": "c8115b4db68e4037962cbf8ae45f09f2",
       "version_major": 2,
       "version_minor": 0
      },
      "text/plain": [
       "HBox(children=(IntProgress(value=0, description='shard 47', max=391, style=ProgressStyle(description_width='in…"
      ]
     },
     "metadata": {},
     "output_type": "display_data"
    },
    {
     "data": {
      "application/vnd.jupyter.widget-view+json": {
       "model_id": "a3847728deb9442abaaf146878a5918e",
       "version_major": 2,
       "version_minor": 0
      },
      "text/plain": [
       "HBox(children=(IntProgress(value=0, description='shard 48', max=391, style=ProgressStyle(description_width='in…"
      ]
     },
     "metadata": {},
     "output_type": "display_data"
    },
    {
     "data": {
      "application/vnd.jupyter.widget-view+json": {
       "model_id": "7fa89635a54347cf9b42efbfb6d411b1",
       "version_major": 2,
       "version_minor": 0
      },
      "text/plain": [
       "HBox(children=(IntProgress(value=0, description='shard 49', max=391, style=ProgressStyle(description_width='in…"
      ]
     },
     "metadata": {},
     "output_type": "display_data"
    },
    {
     "data": {
      "application/vnd.jupyter.widget-view+json": {
       "model_id": "c286130005664a078685c7deeb338d77",
       "version_major": 2,
       "version_minor": 0
      },
      "text/plain": [
       "HBox(children=(IntProgress(value=0, description='shard 50', max=391, style=ProgressStyle(description_width='in…"
      ]
     },
     "metadata": {},
     "output_type": "display_data"
    },
    {
     "data": {
      "application/vnd.jupyter.widget-view+json": {
       "model_id": "ea8988eb16f84b8386f7490793475a6e",
       "version_major": 2,
       "version_minor": 0
      },
      "text/plain": [
       "HBox(children=(IntProgress(value=0, description='shard 51', max=391, style=ProgressStyle(description_width='in…"
      ]
     },
     "metadata": {},
     "output_type": "display_data"
    },
    {
     "data": {
      "application/vnd.jupyter.widget-view+json": {
       "model_id": "91a5beb6b7da45f498f736636398d85b",
       "version_major": 2,
       "version_minor": 0
      },
      "text/plain": [
       "HBox(children=(IntProgress(value=0, description='shard 52', max=391, style=ProgressStyle(description_width='in…"
      ]
     },
     "metadata": {},
     "output_type": "display_data"
    },
    {
     "data": {
      "application/vnd.jupyter.widget-view+json": {
       "model_id": "d7a370f1690d4de6aae9f4052cbf259c",
       "version_major": 2,
       "version_minor": 0
      },
      "text/plain": [
       "HBox(children=(IntProgress(value=0, description='shard 53', max=391, style=ProgressStyle(description_width='in…"
      ]
     },
     "metadata": {},
     "output_type": "display_data"
    },
    {
     "data": {
      "application/vnd.jupyter.widget-view+json": {
       "model_id": "a9dd689a49504f7dba4d03a52ed2d436",
       "version_major": 2,
       "version_minor": 0
      },
      "text/plain": [
       "HBox(children=(IntProgress(value=0, description='shard 54', max=391, style=ProgressStyle(description_width='in…"
      ]
     },
     "metadata": {},
     "output_type": "display_data"
    },
    {
     "data": {
      "application/vnd.jupyter.widget-view+json": {
       "model_id": "99c89c4eb46c4a2097a2eaed8e94740d",
       "version_major": 2,
       "version_minor": 0
      },
      "text/plain": [
       "HBox(children=(IntProgress(value=0, description='shard 55', max=391, style=ProgressStyle(description_width='in…"
      ]
     },
     "metadata": {},
     "output_type": "display_data"
    },
    {
     "data": {
      "application/vnd.jupyter.widget-view+json": {
       "model_id": "2721fccde0f34fe0bc2d3bc4da0cf615",
       "version_major": 2,
       "version_minor": 0
      },
      "text/plain": [
       "HBox(children=(IntProgress(value=0, description='shard 56', max=391, style=ProgressStyle(description_width='in…"
      ]
     },
     "metadata": {},
     "output_type": "display_data"
    },
    {
     "data": {
      "application/vnd.jupyter.widget-view+json": {
       "model_id": "c6de8e9d47d648ccb19d13d453ee85ca",
       "version_major": 2,
       "version_minor": 0
      },
      "text/plain": [
       "HBox(children=(IntProgress(value=0, description='shard 57', max=391, style=ProgressStyle(description_width='in…"
      ]
     },
     "metadata": {},
     "output_type": "display_data"
    },
    {
     "data": {
      "application/vnd.jupyter.widget-view+json": {
       "model_id": "56d6eba5d507448a87fbc6b06478147d",
       "version_major": 2,
       "version_minor": 0
      },
      "text/plain": [
       "HBox(children=(IntProgress(value=0, description='shard 58', max=391, style=ProgressStyle(description_width='in…"
      ]
     },
     "metadata": {},
     "output_type": "display_data"
    },
    {
     "data": {
      "application/vnd.jupyter.widget-view+json": {
       "model_id": "ed6fb3ac70bd469589ca8104ce5e61a3",
       "version_major": 2,
       "version_minor": 0
      },
      "text/plain": [
       "HBox(children=(IntProgress(value=0, description='shard 59', max=391, style=ProgressStyle(description_width='in…"
      ]
     },
     "metadata": {},
     "output_type": "display_data"
    },
    {
     "data": {
      "application/vnd.jupyter.widget-view+json": {
       "model_id": "8d0f6c8e3fcc4bdaa2ec614b8acd3367",
       "version_major": 2,
       "version_minor": 0
      },
      "text/plain": [
       "HBox(children=(IntProgress(value=0, description='shard 60', max=391, style=ProgressStyle(description_width='in…"
      ]
     },
     "metadata": {},
     "output_type": "display_data"
    },
    {
     "data": {
      "application/vnd.jupyter.widget-view+json": {
       "model_id": "66f4466fd3ed42bdbacec3aa142280a5",
       "version_major": 2,
       "version_minor": 0
      },
      "text/plain": [
       "HBox(children=(IntProgress(value=0, description='shard 61', max=391, style=ProgressStyle(description_width='in…"
      ]
     },
     "metadata": {},
     "output_type": "display_data"
    },
    {
     "data": {
      "application/vnd.jupyter.widget-view+json": {
       "model_id": "e6a8023f9f3248cb8e0d5079babca5a2",
       "version_major": 2,
       "version_minor": 0
      },
      "text/plain": [
       "HBox(children=(IntProgress(value=0, description='shard 62', max=391, style=ProgressStyle(description_width='in…"
      ]
     },
     "metadata": {},
     "output_type": "display_data"
    },
    {
     "data": {
      "application/vnd.jupyter.widget-view+json": {
       "model_id": "05ebc3c90f2945b790d494955267c1bd",
       "version_major": 2,
       "version_minor": 0
      },
      "text/plain": [
       "HBox(children=(IntProgress(value=0, description='shard 63', max=391, style=ProgressStyle(description_width='in…"
      ]
     },
     "metadata": {},
     "output_type": "display_data"
    },
    {
     "data": {
      "application/vnd.jupyter.widget-view+json": {
       "model_id": "ddb3b5e04b5d4cbe8d618b1a3377d8ae",
       "version_major": 2,
       "version_minor": 0
      },
      "text/plain": [
       "HBox(children=(IntProgress(value=0, description='shard 64', max=391, style=ProgressStyle(description_width='in…"
      ]
     },
     "metadata": {},
     "output_type": "display_data"
    },
    {
     "data": {
      "application/vnd.jupyter.widget-view+json": {
       "model_id": "32aa730b3a6449478b3f4980d761e911",
       "version_major": 2,
       "version_minor": 0
      },
      "text/plain": [
       "HBox(children=(IntProgress(value=0, description='shard 65', max=391, style=ProgressStyle(description_width='in…"
      ]
     },
     "metadata": {},
     "output_type": "display_data"
    },
    {
     "data": {
      "application/vnd.jupyter.widget-view+json": {
       "model_id": "7b3095e22d7c49c79ed3649b10e5e4bd",
       "version_major": 2,
       "version_minor": 0
      },
      "text/plain": [
       "HBox(children=(IntProgress(value=0, description='shard 66', max=391, style=ProgressStyle(description_width='in…"
      ]
     },
     "metadata": {},
     "output_type": "display_data"
    },
    {
     "data": {
      "application/vnd.jupyter.widget-view+json": {
       "model_id": "b031415f3de64c43be554b3fd8993f43",
       "version_major": 2,
       "version_minor": 0
      },
      "text/plain": [
       "HBox(children=(IntProgress(value=0, description='shard 67', max=391, style=ProgressStyle(description_width='in…"
      ]
     },
     "metadata": {},
     "output_type": "display_data"
    },
    {
     "data": {
      "application/vnd.jupyter.widget-view+json": {
       "model_id": "1907bda9adcf4b209b8efe85ad1e25db",
       "version_major": 2,
       "version_minor": 0
      },
      "text/plain": [
       "HBox(children=(IntProgress(value=0, description='shard 68', max=391, style=ProgressStyle(description_width='in…"
      ]
     },
     "metadata": {},
     "output_type": "display_data"
    },
    {
     "data": {
      "application/vnd.jupyter.widget-view+json": {
       "model_id": "396e12478e25476a8c1459e75933d6f7",
       "version_major": 2,
       "version_minor": 0
      },
      "text/plain": [
       "HBox(children=(IntProgress(value=0, description='shard 69', max=391, style=ProgressStyle(description_width='in…"
      ]
     },
     "metadata": {},
     "output_type": "display_data"
    },
    {
     "data": {
      "application/vnd.jupyter.widget-view+json": {
       "model_id": "0b904d70f8714330a5a11937db9a73f2",
       "version_major": 2,
       "version_minor": 0
      },
      "text/plain": [
       "HBox(children=(IntProgress(value=0, description='shard 70', max=391, style=ProgressStyle(description_width='in…"
      ]
     },
     "metadata": {},
     "output_type": "display_data"
    },
    {
     "data": {
      "application/vnd.jupyter.widget-view+json": {
       "model_id": "58ee5503068a433db61280c5387dbef2",
       "version_major": 2,
       "version_minor": 0
      },
      "text/plain": [
       "HBox(children=(IntProgress(value=0, description='shard 71', max=391, style=ProgressStyle(description_width='in…"
      ]
     },
     "metadata": {},
     "output_type": "display_data"
    },
    {
     "data": {
      "application/vnd.jupyter.widget-view+json": {
       "model_id": "6e6b9d0aa4b9438f96a534f085708cb5",
       "version_major": 2,
       "version_minor": 0
      },
      "text/plain": [
       "HBox(children=(IntProgress(value=0, description='shard 72', max=391, style=ProgressStyle(description_width='in…"
      ]
     },
     "metadata": {},
     "output_type": "display_data"
    },
    {
     "data": {
      "application/vnd.jupyter.widget-view+json": {
       "model_id": "04662277550743148908694f82841bc4",
       "version_major": 2,
       "version_minor": 0
      },
      "text/plain": [
       "HBox(children=(IntProgress(value=0, description='shard 73', max=391, style=ProgressStyle(description_width='in…"
      ]
     },
     "metadata": {},
     "output_type": "display_data"
    },
    {
     "data": {
      "application/vnd.jupyter.widget-view+json": {
       "model_id": "e0c8a532158244fdb2f9cc03d36a01b2",
       "version_major": 2,
       "version_minor": 0
      },
      "text/plain": [
       "HBox(children=(IntProgress(value=0, description='shard 74', max=391, style=ProgressStyle(description_width='in…"
      ]
     },
     "metadata": {},
     "output_type": "display_data"
    },
    {
     "data": {
      "application/vnd.jupyter.widget-view+json": {
       "model_id": "d138028663334804868d00424cfab442",
       "version_major": 2,
       "version_minor": 0
      },
      "text/plain": [
       "HBox(children=(IntProgress(value=0, description='shard 75', max=391, style=ProgressStyle(description_width='in…"
      ]
     },
     "metadata": {},
     "output_type": "display_data"
    },
    {
     "data": {
      "application/vnd.jupyter.widget-view+json": {
       "model_id": "f332a8ff4fcb403fa842f750636114b8",
       "version_major": 2,
       "version_minor": 0
      },
      "text/plain": [
       "HBox(children=(IntProgress(value=0, description='shard 76', max=391, style=ProgressStyle(description_width='in…"
      ]
     },
     "metadata": {},
     "output_type": "display_data"
    },
    {
     "data": {
      "application/vnd.jupyter.widget-view+json": {
       "model_id": "f11cfcf5aac04fd39bb9a562d03f4901",
       "version_major": 2,
       "version_minor": 0
      },
      "text/plain": [
       "HBox(children=(IntProgress(value=0, description='shard 77', max=391, style=ProgressStyle(description_width='in…"
      ]
     },
     "metadata": {},
     "output_type": "display_data"
    },
    {
     "data": {
      "application/vnd.jupyter.widget-view+json": {
       "model_id": "664d8cb3f7c143d2a5ee3c7102a8dda2",
       "version_major": 2,
       "version_minor": 0
      },
      "text/plain": [
       "HBox(children=(IntProgress(value=0, description='shard 78', max=391, style=ProgressStyle(description_width='in…"
      ]
     },
     "metadata": {},
     "output_type": "display_data"
    },
    {
     "data": {
      "application/vnd.jupyter.widget-view+json": {
       "model_id": "39004e4f479346ccb124dc4cbe6bcf28",
       "version_major": 2,
       "version_minor": 0
      },
      "text/plain": [
       "HBox(children=(IntProgress(value=0, description='shard 79', max=391, style=ProgressStyle(description_width='in…"
      ]
     },
     "metadata": {},
     "output_type": "display_data"
    },
    {
     "data": {
      "application/vnd.jupyter.widget-view+json": {
       "model_id": "db6c06ceb349480b9622016b61c3a807",
       "version_major": 2,
       "version_minor": 0
      },
      "text/plain": [
       "HBox(children=(IntProgress(value=0, description='shard 80', max=391, style=ProgressStyle(description_width='in…"
      ]
     },
     "metadata": {},
     "output_type": "display_data"
    },
    {
     "data": {
      "application/vnd.jupyter.widget-view+json": {
       "model_id": "4171b24868b74eb7bc22c8d08d6b762c",
       "version_major": 2,
       "version_minor": 0
      },
      "text/plain": [
       "HBox(children=(IntProgress(value=0, description='shard 81', max=391, style=ProgressStyle(description_width='in…"
      ]
     },
     "metadata": {},
     "output_type": "display_data"
    },
    {
     "data": {
      "application/vnd.jupyter.widget-view+json": {
       "model_id": "aa9cf1ea7e904c5cb08ae05df47b74c4",
       "version_major": 2,
       "version_minor": 0
      },
      "text/plain": [
       "HBox(children=(IntProgress(value=0, description='shard 82', max=391, style=ProgressStyle(description_width='in…"
      ]
     },
     "metadata": {},
     "output_type": "display_data"
    },
    {
     "data": {
      "application/vnd.jupyter.widget-view+json": {
       "model_id": "1efc17f8ce834447a27459359c6ace29",
       "version_major": 2,
       "version_minor": 0
      },
      "text/plain": [
       "HBox(children=(IntProgress(value=0, description='shard 83', max=391, style=ProgressStyle(description_width='in…"
      ]
     },
     "metadata": {},
     "output_type": "display_data"
    },
    {
     "data": {
      "application/vnd.jupyter.widget-view+json": {
       "model_id": "525ec462f5734c4391e4db331ae72e27",
       "version_major": 2,
       "version_minor": 0
      },
      "text/plain": [
       "HBox(children=(IntProgress(value=0, description='shard 84', max=391, style=ProgressStyle(description_width='in…"
      ]
     },
     "metadata": {},
     "output_type": "display_data"
    },
    {
     "data": {
      "application/vnd.jupyter.widget-view+json": {
       "model_id": "ceed58cfd0594d3d959353fd2942975d",
       "version_major": 2,
       "version_minor": 0
      },
      "text/plain": [
       "HBox(children=(IntProgress(value=0, description='shard 85', max=391, style=ProgressStyle(description_width='in…"
      ]
     },
     "metadata": {},
     "output_type": "display_data"
    },
    {
     "data": {
      "application/vnd.jupyter.widget-view+json": {
       "model_id": "53e47a414b544e1299f3e1c184ed684a",
       "version_major": 2,
       "version_minor": 0
      },
      "text/plain": [
       "HBox(children=(IntProgress(value=0, description='shard 86', max=391, style=ProgressStyle(description_width='in…"
      ]
     },
     "metadata": {},
     "output_type": "display_data"
    },
    {
     "data": {
      "application/vnd.jupyter.widget-view+json": {
       "model_id": "6d92a4050b2c4c99b28b43820aaad45f",
       "version_major": 2,
       "version_minor": 0
      },
      "text/plain": [
       "HBox(children=(IntProgress(value=0, description='shard 87', max=391, style=ProgressStyle(description_width='in…"
      ]
     },
     "metadata": {},
     "output_type": "display_data"
    },
    {
     "data": {
      "application/vnd.jupyter.widget-view+json": {
       "model_id": "b671be13fae74101b57811c6f91abf2f",
       "version_major": 2,
       "version_minor": 0
      },
      "text/plain": [
       "HBox(children=(IntProgress(value=0, description='shard 88', max=391, style=ProgressStyle(description_width='in…"
      ]
     },
     "metadata": {},
     "output_type": "display_data"
    },
    {
     "data": {
      "application/vnd.jupyter.widget-view+json": {
       "model_id": "b4b0d1f9891049c69392f38262c73a24",
       "version_major": 2,
       "version_minor": 0
      },
      "text/plain": [
       "HBox(children=(IntProgress(value=0, description='shard 89', max=391, style=ProgressStyle(description_width='in…"
      ]
     },
     "metadata": {},
     "output_type": "display_data"
    },
    {
     "data": {
      "application/vnd.jupyter.widget-view+json": {
       "model_id": "f33e50b021ec4671971a4cf106ff1818",
       "version_major": 2,
       "version_minor": 0
      },
      "text/plain": [
       "HBox(children=(IntProgress(value=0, description='shard 90', max=391, style=ProgressStyle(description_width='in…"
      ]
     },
     "metadata": {},
     "output_type": "display_data"
    },
    {
     "data": {
      "application/vnd.jupyter.widget-view+json": {
       "model_id": "c3ed56c6250e47d0824833320a91b6fb",
       "version_major": 2,
       "version_minor": 0
      },
      "text/plain": [
       "HBox(children=(IntProgress(value=0, description='shard 91', max=391, style=ProgressStyle(description_width='in…"
      ]
     },
     "metadata": {},
     "output_type": "display_data"
    },
    {
     "data": {
      "application/vnd.jupyter.widget-view+json": {
       "model_id": "f59c431bdbb44b69b4d733d8157fa29d",
       "version_major": 2,
       "version_minor": 0
      },
      "text/plain": [
       "HBox(children=(IntProgress(value=0, description='shard 92', max=391, style=ProgressStyle(description_width='in…"
      ]
     },
     "metadata": {},
     "output_type": "display_data"
    },
    {
     "data": {
      "application/vnd.jupyter.widget-view+json": {
       "model_id": "00ec6e87753246e6b93df79adc9fbc98",
       "version_major": 2,
       "version_minor": 0
      },
      "text/plain": [
       "HBox(children=(IntProgress(value=0, description='shard 93', max=391, style=ProgressStyle(description_width='in…"
      ]
     },
     "metadata": {},
     "output_type": "display_data"
    },
    {
     "data": {
      "application/vnd.jupyter.widget-view+json": {
       "model_id": "65a7017b5c194294be9c9359863fc19a",
       "version_major": 2,
       "version_minor": 0
      },
      "text/plain": [
       "HBox(children=(IntProgress(value=0, description='shard 94', max=391, style=ProgressStyle(description_width='in…"
      ]
     },
     "metadata": {},
     "output_type": "display_data"
    },
    {
     "data": {
      "application/vnd.jupyter.widget-view+json": {
       "model_id": "02ca01a4d18d483cb42ade47cd9c8e74",
       "version_major": 2,
       "version_minor": 0
      },
      "text/plain": [
       "HBox(children=(IntProgress(value=0, description='shard 95', max=391, style=ProgressStyle(description_width='in…"
      ]
     },
     "metadata": {},
     "output_type": "display_data"
    },
    {
     "data": {
      "application/vnd.jupyter.widget-view+json": {
       "model_id": "26a72eb37c4441328afb210f0d7798de",
       "version_major": 2,
       "version_minor": 0
      },
      "text/plain": [
       "HBox(children=(IntProgress(value=0, description='shard 96', max=391, style=ProgressStyle(description_width='in…"
      ]
     },
     "metadata": {},
     "output_type": "display_data"
    },
    {
     "data": {
      "application/vnd.jupyter.widget-view+json": {
       "model_id": "6dbef6822ee44f42b4a117859cff01bb",
       "version_major": 2,
       "version_minor": 0
      },
      "text/plain": [
       "HBox(children=(IntProgress(value=0, description='shard 97', max=391, style=ProgressStyle(description_width='in…"
      ]
     },
     "metadata": {},
     "output_type": "display_data"
    },
    {
     "data": {
      "application/vnd.jupyter.widget-view+json": {
       "model_id": "e95276279c7f4a5c9256285b354f5772",
       "version_major": 2,
       "version_minor": 0
      },
      "text/plain": [
       "HBox(children=(IntProgress(value=0, description='shard 98', max=391, style=ProgressStyle(description_width='in…"
      ]
     },
     "metadata": {},
     "output_type": "display_data"
    },
    {
     "data": {
      "application/vnd.jupyter.widget-view+json": {
       "model_id": "75d443e18b004119acedcfaf65c462b7",
       "version_major": 2,
       "version_minor": 0
      },
      "text/plain": [
       "HBox(children=(IntProgress(value=0, description='shard 99', max=391, style=ProgressStyle(description_width='in…"
      ]
     },
     "metadata": {},
     "output_type": "display_data"
    },
    {
     "data": {
      "application/vnd.jupyter.widget-view+json": {
       "model_id": "1ddc3b871cad421798c6a33990ba9f17",
       "version_major": 2,
       "version_minor": 0
      },
      "text/plain": [
       "HBox(children=(IntProgress(value=0, description='shard 100', max=391, style=ProgressStyle(description_width='i…"
      ]
     },
     "metadata": {},
     "output_type": "display_data"
    },
    {
     "data": {
      "application/vnd.jupyter.widget-view+json": {
       "model_id": "e095c5c2b87f4b348af3d13f9594a69a",
       "version_major": 2,
       "version_minor": 0
      },
      "text/plain": [
       "HBox(children=(IntProgress(value=0, description='shard 101', max=391, style=ProgressStyle(description_width='i…"
      ]
     },
     "metadata": {},
     "output_type": "display_data"
    },
    {
     "data": {
      "application/vnd.jupyter.widget-view+json": {
       "model_id": "2176e16059f94d558477be603c2c96fd",
       "version_major": 2,
       "version_minor": 0
      },
      "text/plain": [
       "HBox(children=(IntProgress(value=0, description='shard 102', max=391, style=ProgressStyle(description_width='i…"
      ]
     },
     "metadata": {},
     "output_type": "display_data"
    },
    {
     "data": {
      "application/vnd.jupyter.widget-view+json": {
       "model_id": "c7cd6cb094cf4b95851c365dbe1fc98f",
       "version_major": 2,
       "version_minor": 0
      },
      "text/plain": [
       "HBox(children=(IntProgress(value=0, description='shard 103', max=391, style=ProgressStyle(description_width='i…"
      ]
     },
     "metadata": {},
     "output_type": "display_data"
    },
    {
     "data": {
      "application/vnd.jupyter.widget-view+json": {
       "model_id": "5f203ebf260449a2a4c904460a27d414",
       "version_major": 2,
       "version_minor": 0
      },
      "text/plain": [
       "HBox(children=(IntProgress(value=0, description='shard 104', max=391, style=ProgressStyle(description_width='i…"
      ]
     },
     "metadata": {},
     "output_type": "display_data"
    },
    {
     "data": {
      "application/vnd.jupyter.widget-view+json": {
       "model_id": "ef64b4a00c4749d1b1f6ba269df38a2a",
       "version_major": 2,
       "version_minor": 0
      },
      "text/plain": [
       "HBox(children=(IntProgress(value=0, description='shard 105', max=391, style=ProgressStyle(description_width='i…"
      ]
     },
     "metadata": {},
     "output_type": "display_data"
    },
    {
     "data": {
      "application/vnd.jupyter.widget-view+json": {
       "model_id": "5841646f2df949049407b07907ade2d2",
       "version_major": 2,
       "version_minor": 0
      },
      "text/plain": [
       "HBox(children=(IntProgress(value=0, description='shard 106', max=391, style=ProgressStyle(description_width='i…"
      ]
     },
     "metadata": {},
     "output_type": "display_data"
    },
    {
     "data": {
      "application/vnd.jupyter.widget-view+json": {
       "model_id": "385f0277f1b24b138ec78c26c48363e5",
       "version_major": 2,
       "version_minor": 0
      },
      "text/plain": [
       "HBox(children=(IntProgress(value=0, description='shard 107', max=391, style=ProgressStyle(description_width='i…"
      ]
     },
     "metadata": {},
     "output_type": "display_data"
    },
    {
     "data": {
      "application/vnd.jupyter.widget-view+json": {
       "model_id": "920cc62f2d144f80afa917f4e8c9b989",
       "version_major": 2,
       "version_minor": 0
      },
      "text/plain": [
       "HBox(children=(IntProgress(value=0, description='shard 108', max=391, style=ProgressStyle(description_width='i…"
      ]
     },
     "metadata": {},
     "output_type": "display_data"
    },
    {
     "data": {
      "application/vnd.jupyter.widget-view+json": {
       "model_id": "b4d74c0890234487b4c3573896fa5378",
       "version_major": 2,
       "version_minor": 0
      },
      "text/plain": [
       "HBox(children=(IntProgress(value=0, description='shard 109', max=391, style=ProgressStyle(description_width='i…"
      ]
     },
     "metadata": {},
     "output_type": "display_data"
    },
    {
     "data": {
      "application/vnd.jupyter.widget-view+json": {
       "model_id": "0a1ec4b5b0be40b68e8f7faf761ac659",
       "version_major": 2,
       "version_minor": 0
      },
      "text/plain": [
       "HBox(children=(IntProgress(value=0, description='shard 110', max=391, style=ProgressStyle(description_width='i…"
      ]
     },
     "metadata": {},
     "output_type": "display_data"
    },
    {
     "data": {
      "application/vnd.jupyter.widget-view+json": {
       "model_id": "00cd632de2d94eb281fe7289e451ccd4",
       "version_major": 2,
       "version_minor": 0
      },
      "text/plain": [
       "HBox(children=(IntProgress(value=0, description='shard 111', max=391, style=ProgressStyle(description_width='i…"
      ]
     },
     "metadata": {},
     "output_type": "display_data"
    },
    {
     "data": {
      "application/vnd.jupyter.widget-view+json": {
       "model_id": "af40549947f4438f8fe381a4d9ae032e",
       "version_major": 2,
       "version_minor": 0
      },
      "text/plain": [
       "HBox(children=(IntProgress(value=0, description='shard 112', max=391, style=ProgressStyle(description_width='i…"
      ]
     },
     "metadata": {},
     "output_type": "display_data"
    },
    {
     "data": {
      "application/vnd.jupyter.widget-view+json": {
       "model_id": "640be3672cdb418693157464a86bdc39",
       "version_major": 2,
       "version_minor": 0
      },
      "text/plain": [
       "HBox(children=(IntProgress(value=0, description='shard 113', max=391, style=ProgressStyle(description_width='i…"
      ]
     },
     "metadata": {},
     "output_type": "display_data"
    },
    {
     "data": {
      "application/vnd.jupyter.widget-view+json": {
       "model_id": "5fed4b35cfd540a88a116622cf0b7c1d",
       "version_major": 2,
       "version_minor": 0
      },
      "text/plain": [
       "HBox(children=(IntProgress(value=0, description='shard 114', max=391, style=ProgressStyle(description_width='i…"
      ]
     },
     "metadata": {},
     "output_type": "display_data"
    },
    {
     "data": {
      "application/vnd.jupyter.widget-view+json": {
       "model_id": "1ca2978acb6843dabfef4c6642fc735f",
       "version_major": 2,
       "version_minor": 0
      },
      "text/plain": [
       "HBox(children=(IntProgress(value=0, description='shard 115', max=391, style=ProgressStyle(description_width='i…"
      ]
     },
     "metadata": {},
     "output_type": "display_data"
    },
    {
     "data": {
      "application/vnd.jupyter.widget-view+json": {
       "model_id": "188bda4ed76940e8a63ef1366283d284",
       "version_major": 2,
       "version_minor": 0
      },
      "text/plain": [
       "HBox(children=(IntProgress(value=0, description='shard 116', max=391, style=ProgressStyle(description_width='i…"
      ]
     },
     "metadata": {},
     "output_type": "display_data"
    },
    {
     "data": {
      "application/vnd.jupyter.widget-view+json": {
       "model_id": "b9876ba4d4df4828a946afd2e78f4878",
       "version_major": 2,
       "version_minor": 0
      },
      "text/plain": [
       "HBox(children=(IntProgress(value=0, description='shard 117', max=391, style=ProgressStyle(description_width='i…"
      ]
     },
     "metadata": {},
     "output_type": "display_data"
    },
    {
     "data": {
      "application/vnd.jupyter.widget-view+json": {
       "model_id": "0d1dbd925fd744f6ba06783fa7d23a1b",
       "version_major": 2,
       "version_minor": 0
      },
      "text/plain": [
       "HBox(children=(IntProgress(value=0, description='shard 118', max=391, style=ProgressStyle(description_width='i…"
      ]
     },
     "metadata": {},
     "output_type": "display_data"
    },
    {
     "data": {
      "application/vnd.jupyter.widget-view+json": {
       "model_id": "5304c39e7de1429b9aa4b67257b3e57d",
       "version_major": 2,
       "version_minor": 0
      },
      "text/plain": [
       "HBox(children=(IntProgress(value=0, description='shard 119', max=391, style=ProgressStyle(description_width='i…"
      ]
     },
     "metadata": {},
     "output_type": "display_data"
    },
    {
     "data": {
      "application/vnd.jupyter.widget-view+json": {
       "model_id": "2f23bdedc2e142d690d94d0256e43160",
       "version_major": 2,
       "version_minor": 0
      },
      "text/plain": [
       "HBox(children=(IntProgress(value=0, description='shard 120', max=391, style=ProgressStyle(description_width='i…"
      ]
     },
     "metadata": {},
     "output_type": "display_data"
    },
    {
     "data": {
      "application/vnd.jupyter.widget-view+json": {
       "model_id": "70179eb3a3dd4d1187065b80bceb27b3",
       "version_major": 2,
       "version_minor": 0
      },
      "text/plain": [
       "HBox(children=(IntProgress(value=0, description='shard 121', max=391, style=ProgressStyle(description_width='i…"
      ]
     },
     "metadata": {},
     "output_type": "display_data"
    },
    {
     "data": {
      "application/vnd.jupyter.widget-view+json": {
       "model_id": "616c879403d84fc085efac8203fee4d8",
       "version_major": 2,
       "version_minor": 0
      },
      "text/plain": [
       "HBox(children=(IntProgress(value=0, description='shard 122', max=391, style=ProgressStyle(description_width='i…"
      ]
     },
     "metadata": {},
     "output_type": "display_data"
    },
    {
     "data": {
      "application/vnd.jupyter.widget-view+json": {
       "model_id": "0d41465cf9f448fcaa0c460f1d076394",
       "version_major": 2,
       "version_minor": 0
      },
      "text/plain": [
       "HBox(children=(IntProgress(value=0, description='shard 123', max=391, style=ProgressStyle(description_width='i…"
      ]
     },
     "metadata": {},
     "output_type": "display_data"
    },
    {
     "data": {
      "application/vnd.jupyter.widget-view+json": {
       "model_id": "086899d9e0814a8f9325f03448ce8da1",
       "version_major": 2,
       "version_minor": 0
      },
      "text/plain": [
       "HBox(children=(IntProgress(value=0, description='shard 124', max=391, style=ProgressStyle(description_width='i…"
      ]
     },
     "metadata": {},
     "output_type": "display_data"
    },
    {
     "data": {
      "application/vnd.jupyter.widget-view+json": {
       "model_id": "d048b64e82fd4e97be3b5c1ebf5dc131",
       "version_major": 2,
       "version_minor": 0
      },
      "text/plain": [
       "HBox(children=(IntProgress(value=0, description='shard 125', max=391, style=ProgressStyle(description_width='i…"
      ]
     },
     "metadata": {},
     "output_type": "display_data"
    },
    {
     "data": {
      "application/vnd.jupyter.widget-view+json": {
       "model_id": "d4ab57a2bd964fd288da708bbdeec740",
       "version_major": 2,
       "version_minor": 0
      },
      "text/plain": [
       "HBox(children=(IntProgress(value=0, description='shard 126', max=391, style=ProgressStyle(description_width='i…"
      ]
     },
     "metadata": {},
     "output_type": "display_data"
    },
    {
     "data": {
      "application/vnd.jupyter.widget-view+json": {
       "model_id": "b9fe21f6a19a4edb8d11abde98e7d72e",
       "version_major": 2,
       "version_minor": 0
      },
      "text/plain": [
       "HBox(children=(IntProgress(value=0, description='shard 127', max=343, style=ProgressStyle(description_width='i…"
      ]
     },
     "metadata": {},
     "output_type": "display_data"
    }
   ],
   "source": [
    "def get_image_bytes(filename):\n",
    "    im = Image.open(filename)\n",
    "    x, y = im.size\n",
    "    if x > y:\n",
    "        cropped = im.crop(((x-y) // 2, 0,(x+y) // 2, y))\n",
    "    elif x < y:\n",
    "        cropped = im.crop((0, (y-x) // 2, x, (y+x) // 2))\n",
    "    else:\n",
    "        cropped = im\n",
    "    \n",
    "    im = cropped.resize((256, 256), Image.BICUBIC)\n",
    "    im_bytes = io.BytesIO()\n",
    "    im.save(im_bytes, format='JPEG')\n",
    "    return im_bytes.getvalue()\n",
    "\n",
    "def to_example(encoded, filename, label, synset, text):\n",
    "    feature_dict = {\n",
    "        'image/encoded': tf.train.Feature(bytes_list=tf.train.BytesList(value=[encoded])),\n",
    "        'image/filename': tf.train.Feature(bytes_list=tf.train.BytesList(value=[filename])),\n",
    "        'image/class/label' : tf.train.Feature(int64_list=tf.train.Int64List(value=[label])),\n",
    "        'image/class/synset' : tf.train.Feature(bytes_list=tf.train.BytesList(value=[synset])),\n",
    "        'image/class/text' : tf.train.Feature(bytes_list=tf.train.BytesList(value=[text])),\n",
    "    }\n",
    "    \n",
    "    return tf.train.Example(features=tf.train.Features(feature=feature_dict))\n",
    "\n",
    "train_tfrecord_path = '/home/joel/imagenet/tfrecords/val-{:04}-0128'\n",
    "for i, names in tqdm_notebook(enumerate(sharded_filenames), desc='shards'):\n",
    "    writer = tf.python_io.TFRecordWriter(train_tfrecord_path.format(i))\n",
    "    for img_label in tqdm_notebook(names, desc='shard {}'.format(i)):\n",
    "        name = img_label[0]\n",
    "        label = img_label[1]\n",
    "        tree = ET.parse(label)\n",
    "        root = tree.getroot()\n",
    "        synset = root.find(\"./object/name\").text\n",
    "        encoded = get_image_bytes(name)\n",
    "        filename = bytes(name.parts[-1], 'utf-8')\n",
    "        label, text = code_to_labels[synset]\n",
    "        synset = bytes(synset, 'utf-8')\n",
    "        text = bytes(text, 'utf-8')\n",
    "        writer.write(to_example(encoded, filename, label, synset, text).SerializeToString())\n",
    "    \n",
    "    writer.close()\n",
    "    "
   ]
  },
  {
   "cell_type": "code",
   "execution_count": null,
   "metadata": {},
   "outputs": [],
   "source": []
  }
 ],
 "metadata": {
  "kernelspec": {
   "display_name": "py3venv",
   "language": "python",
   "name": "py3venv"
  },
  "language_info": {
   "codemirror_mode": {
    "name": "ipython",
    "version": 3
   },
   "file_extension": ".py",
   "mimetype": "text/x-python",
   "name": "python",
   "nbconvert_exporter": "python",
   "pygments_lexer": "ipython3",
   "version": "3.6.7"
  }
 },
 "nbformat": 4,
 "nbformat_minor": 2
}
